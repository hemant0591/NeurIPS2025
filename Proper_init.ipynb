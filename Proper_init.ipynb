{
 "cells": [
  {
   "cell_type": "code",
   "execution_count": 1,
   "id": "d17814c7-7a93-48bd-b0aa-2c21e1661c4e",
   "metadata": {},
   "outputs": [],
   "source": [
    "import torch,random\n",
    "import fastcore.all as fc\n",
    "\n",
    "from torch import nn\n",
    "from torch import optim\n",
    "import torch.nn.functional as F\n",
    "from torch.nn import L1Loss\n",
    "from torch.nn import init\n",
    "from torch.utils.data import Dataset\n",
    "from torch.utils.data import DataLoader\n",
    "from torch.optim import Adam\n",
    "\n",
    "import warnings\n",
    "warnings.filterwarnings('ignore')\n",
    "\n",
    "from miniai.datasets import *\n",
    "from miniai.conv import *\n",
    "from miniai.learner import *\n",
    "from miniai.activations import *\n",
    "from miniai.init import *\n",
    "from miniai.sgd import *\n",
    "from miniai.resnet import *"
   ]
  },
  {
   "cell_type": "code",
   "execution_count": 2,
   "id": "917d1e89-06b2-42b1-94f8-6baae8f6eee3",
   "metadata": {},
   "outputs": [],
   "source": [
    "import pandas as pd\n",
    "from tqdm.notebook import tqdm\n",
    "tqdm.pandas()\n",
    "import numpy as np\n",
    "from pathlib import Path\n",
    "import seaborn as sns\n",
    "import matplotlib.pyplot as plt\n",
    "%matplotlib inline\n",
    "\n",
    "from sklearn.model_selection import train_test_split\n",
    "from sklearn.preprocessing import StandardScaler\n",
    "\n",
    "from rdkit import Chem\n",
    "from rdkit.Chem import MACCSkeys, Descriptors\n",
    "from rdkit.Chem.rdMolDescriptors import CalcNumRotatableBonds\n",
    "from rdkit.Chem import AllChem\n",
    "from rdkit.Chem import Draw\n",
    "from rdkit.Chem import Descriptors\n",
    "from rdkit import DataStructs\n",
    "from rdkit import RDLogger  \n",
    "RDLogger.DisableLog('rdApp.*')  \n",
    "\n",
    "import os\n",
    "os.environ[\"TOKENIZERS_PARALLELISM\"] = \"false\""
   ]
  },
  {
   "cell_type": "code",
   "execution_count": 3,
   "id": "97441e81-f1e8-4c2f-8597-7b31a647d991",
   "metadata": {},
   "outputs": [],
   "source": [
    "def set_seed(seed, deterministic=False):\n",
    "    torch.use_deterministic_algorithms(deterministic)\n",
    "    torch.manual_seed(seed)\n",
    "    random.seed(seed)\n",
    "    np.random.seed(seed)"
   ]
  },
  {
   "cell_type": "code",
   "execution_count": 4,
   "id": "6d7ed0a0-a105-4bcf-a415-39bb3c2b84b8",
   "metadata": {},
   "outputs": [],
   "source": [
    "train = pd.read_csv('train.csv')\n",
    "test = pd.read_csv('test.csv')"
   ]
  },
  {
   "cell_type": "code",
   "execution_count": 5,
   "id": "6f439657-709b-4c9a-9755-1a7b8ddf48b0",
   "metadata": {},
   "outputs": [
    {
     "data": {
      "text/html": [
       "<div>\n",
       "<style scoped>\n",
       "    .dataframe tbody tr th:only-of-type {\n",
       "        vertical-align: middle;\n",
       "    }\n",
       "\n",
       "    .dataframe tbody tr th {\n",
       "        vertical-align: top;\n",
       "    }\n",
       "\n",
       "    .dataframe thead th {\n",
       "        text-align: right;\n",
       "    }\n",
       "</style>\n",
       "<table border=\"1\" class=\"dataframe\">\n",
       "  <thead>\n",
       "    <tr style=\"text-align: right;\">\n",
       "      <th></th>\n",
       "      <th>id</th>\n",
       "      <th>SMILES</th>\n",
       "      <th>Tg</th>\n",
       "      <th>FFV</th>\n",
       "      <th>Tc</th>\n",
       "      <th>Density</th>\n",
       "      <th>Rg</th>\n",
       "    </tr>\n",
       "  </thead>\n",
       "  <tbody>\n",
       "    <tr>\n",
       "      <th>0</th>\n",
       "      <td>87817</td>\n",
       "      <td>*CC(*)c1ccccc1C(=O)OCCCCCC</td>\n",
       "      <td>NaN</td>\n",
       "      <td>0.374645</td>\n",
       "      <td>0.205667</td>\n",
       "      <td>NaN</td>\n",
       "      <td>NaN</td>\n",
       "    </tr>\n",
       "    <tr>\n",
       "      <th>1</th>\n",
       "      <td>106919</td>\n",
       "      <td>*Nc1ccc([C@H](CCC)c2ccc(C3(c4ccc([C@@H](CCC)c5...</td>\n",
       "      <td>NaN</td>\n",
       "      <td>0.370410</td>\n",
       "      <td>NaN</td>\n",
       "      <td>NaN</td>\n",
       "      <td>NaN</td>\n",
       "    </tr>\n",
       "    <tr>\n",
       "      <th>2</th>\n",
       "      <td>388772</td>\n",
       "      <td>*Oc1ccc(S(=O)(=O)c2ccc(Oc3ccc(C4(c5ccc(Oc6ccc(...</td>\n",
       "      <td>NaN</td>\n",
       "      <td>0.378860</td>\n",
       "      <td>NaN</td>\n",
       "      <td>NaN</td>\n",
       "      <td>NaN</td>\n",
       "    </tr>\n",
       "  </tbody>\n",
       "</table>\n",
       "</div>"
      ],
      "text/plain": [
       "       id                                             SMILES  Tg       FFV  \\\n",
       "0   87817                         *CC(*)c1ccccc1C(=O)OCCCCCC NaN  0.374645   \n",
       "1  106919  *Nc1ccc([C@H](CCC)c2ccc(C3(c4ccc([C@@H](CCC)c5... NaN  0.370410   \n",
       "2  388772  *Oc1ccc(S(=O)(=O)c2ccc(Oc3ccc(C4(c5ccc(Oc6ccc(... NaN  0.378860   \n",
       "\n",
       "         Tc  Density  Rg  \n",
       "0  0.205667      NaN NaN  \n",
       "1       NaN      NaN NaN  \n",
       "2       NaN      NaN NaN  "
      ]
     },
     "execution_count": 5,
     "metadata": {},
     "output_type": "execute_result"
    }
   ],
   "source": [
    "train.head(3)"
   ]
  },
  {
   "cell_type": "code",
   "execution_count": 6,
   "id": "6267aa82-afaf-41cf-bce7-061cea592ba4",
   "metadata": {},
   "outputs": [],
   "source": [
    "def compute_rdkit_feats(smiles):\n",
    "    mol = Chem.MolFromSmiles(smiles)\n",
    "    if mol is None:\n",
    "        return None\n",
    "    \n",
    "    features = {}\n",
    "    \n",
    "    maccs = MACCSkeys.GenMACCSKeys(mol)\n",
    "    \n",
    "    for i in range(1, maccs.GetNumBits()):  # bit 0 is always 1\n",
    "        features[f'MACCS_{i}'] = int(maccs.GetBit(i))\n",
    "\n",
    "    # Descriptors\n",
    "    descs = {\n",
    "        'MolWt': Descriptors.MolWt(mol),\n",
    "        'TPSA': Descriptors.TPSA(mol),\n",
    "        'NumValenceElectrons': Descriptors.NumValenceElectrons(mol),\n",
    "        'NumHeavyAtoms': Descriptors.HeavyAtomCount(mol),\n",
    "        'NumRings': Descriptors.RingCount(mol),\n",
    "        'NumRotatableBonds': CalcNumRotatableBonds(mol),\n",
    "        'MolLogP': Descriptors.MolLogP(mol),\n",
    "        'MolMR': Descriptors.MolMR(mol),\n",
    "        'NumHAcceptors': Descriptors.NumHAcceptors(mol),\n",
    "        'NumHDonors': Descriptors.NumHDonors(mol)\n",
    "    }\n",
    "    features.update(descs)\n",
    "\n",
    "    return features"
   ]
  },
  {
   "cell_type": "code",
   "execution_count": 7,
   "id": "548f28c8-a15c-4954-8508-9f9bf61f784f",
   "metadata": {},
   "outputs": [
    {
     "data": {
      "application/vnd.jupyter.widget-view+json": {
       "model_id": "85006954894a4750903f11bdfb52f110",
       "version_major": 2,
       "version_minor": 0
      },
      "text/plain": [
       "  0%|          | 0/7973 [00:00<?, ?it/s]"
      ]
     },
     "metadata": {},
     "output_type": "display_data"
    }
   ],
   "source": [
    "maccs_data = []\n",
    "\n",
    "for smile in tqdm(train['SMILES']):\n",
    "    feats = compute_rdkit_feats(smile)\n",
    "    if feats is None:\n",
    "        maccs_data.append(None)\n",
    "    else:\n",
    "        maccs_data.append(feats)\n",
    "        \n",
    "maccs_df = pd.DataFrame(maccs_data)\n",
    "train_rdkit = pd.concat([train, maccs_df], axis=1)"
   ]
  },
  {
   "cell_type": "code",
   "execution_count": 8,
   "id": "59f550e9-5bd8-4cd6-96b4-5363c5120d66",
   "metadata": {},
   "outputs": [
    {
     "data": {
      "text/html": [
       "<div>\n",
       "<style scoped>\n",
       "    .dataframe tbody tr th:only-of-type {\n",
       "        vertical-align: middle;\n",
       "    }\n",
       "\n",
       "    .dataframe tbody tr th {\n",
       "        vertical-align: top;\n",
       "    }\n",
       "\n",
       "    .dataframe thead th {\n",
       "        text-align: right;\n",
       "    }\n",
       "</style>\n",
       "<table border=\"1\" class=\"dataframe\">\n",
       "  <thead>\n",
       "    <tr style=\"text-align: right;\">\n",
       "      <th></th>\n",
       "      <th>id</th>\n",
       "      <th>SMILES</th>\n",
       "      <th>Tg</th>\n",
       "      <th>FFV</th>\n",
       "      <th>Tc</th>\n",
       "      <th>Density</th>\n",
       "      <th>Rg</th>\n",
       "      <th>MACCS_1</th>\n",
       "      <th>MACCS_2</th>\n",
       "      <th>MACCS_3</th>\n",
       "      <th>...</th>\n",
       "      <th>MolWt</th>\n",
       "      <th>TPSA</th>\n",
       "      <th>NumValenceElectrons</th>\n",
       "      <th>NumHeavyAtoms</th>\n",
       "      <th>NumRings</th>\n",
       "      <th>NumRotatableBonds</th>\n",
       "      <th>MolLogP</th>\n",
       "      <th>MolMR</th>\n",
       "      <th>NumHAcceptors</th>\n",
       "      <th>NumHDonors</th>\n",
       "    </tr>\n",
       "  </thead>\n",
       "  <tbody>\n",
       "    <tr>\n",
       "      <th>0</th>\n",
       "      <td>87817</td>\n",
       "      <td>*CC(*)c1ccccc1C(=O)OCCCCCC</td>\n",
       "      <td>NaN</td>\n",
       "      <td>0.374645</td>\n",
       "      <td>0.205667</td>\n",
       "      <td>NaN</td>\n",
       "      <td>NaN</td>\n",
       "      <td>0</td>\n",
       "      <td>0</td>\n",
       "      <td>0</td>\n",
       "      <td>...</td>\n",
       "      <td>232.323</td>\n",
       "      <td>26.30</td>\n",
       "      <td>92</td>\n",
       "      <td>17</td>\n",
       "      <td>1</td>\n",
       "      <td>8</td>\n",
       "      <td>3.98170</td>\n",
       "      <td>68.4145</td>\n",
       "      <td>2</td>\n",
       "      <td>0</td>\n",
       "    </tr>\n",
       "    <tr>\n",
       "      <th>1</th>\n",
       "      <td>106919</td>\n",
       "      <td>*Nc1ccc([C@H](CCC)c2ccc(C3(c4ccc([C@@H](CCC)c5...</td>\n",
       "      <td>NaN</td>\n",
       "      <td>0.370410</td>\n",
       "      <td>NaN</td>\n",
       "      <td>NaN</td>\n",
       "      <td>NaN</td>\n",
       "      <td>0</td>\n",
       "      <td>0</td>\n",
       "      <td>0</td>\n",
       "      <td>...</td>\n",
       "      <td>598.919</td>\n",
       "      <td>24.06</td>\n",
       "      <td>236</td>\n",
       "      <td>45</td>\n",
       "      <td>5</td>\n",
       "      <td>16</td>\n",
       "      <td>12.35960</td>\n",
       "      <td>193.3954</td>\n",
       "      <td>2</td>\n",
       "      <td>2</td>\n",
       "    </tr>\n",
       "    <tr>\n",
       "      <th>2</th>\n",
       "      <td>388772</td>\n",
       "      <td>*Oc1ccc(S(=O)(=O)c2ccc(Oc3ccc(C4(c5ccc(Oc6ccc(...</td>\n",
       "      <td>NaN</td>\n",
       "      <td>0.378860</td>\n",
       "      <td>NaN</td>\n",
       "      <td>NaN</td>\n",
       "      <td>NaN</td>\n",
       "      <td>0</td>\n",
       "      <td>0</td>\n",
       "      <td>0</td>\n",
       "      <td>...</td>\n",
       "      <td>1003.207</td>\n",
       "      <td>122.27</td>\n",
       "      <td>364</td>\n",
       "      <td>73</td>\n",
       "      <td>10</td>\n",
       "      <td>15</td>\n",
       "      <td>14.21700</td>\n",
       "      <td>281.6006</td>\n",
       "      <td>9</td>\n",
       "      <td>0</td>\n",
       "    </tr>\n",
       "    <tr>\n",
       "      <th>3</th>\n",
       "      <td>519416</td>\n",
       "      <td>*Nc1ccc(-c2c(-c3ccc(C)cc3)c(-c3ccc(C)cc3)c(N*)...</td>\n",
       "      <td>NaN</td>\n",
       "      <td>0.387324</td>\n",
       "      <td>NaN</td>\n",
       "      <td>NaN</td>\n",
       "      <td>NaN</td>\n",
       "      <td>0</td>\n",
       "      <td>0</td>\n",
       "      <td>0</td>\n",
       "      <td>...</td>\n",
       "      <td>542.726</td>\n",
       "      <td>24.06</td>\n",
       "      <td>204</td>\n",
       "      <td>42</td>\n",
       "      <td>6</td>\n",
       "      <td>7</td>\n",
       "      <td>11.00768</td>\n",
       "      <td>179.8154</td>\n",
       "      <td>2</td>\n",
       "      <td>2</td>\n",
       "    </tr>\n",
       "    <tr>\n",
       "      <th>4</th>\n",
       "      <td>539187</td>\n",
       "      <td>*Oc1ccc(OC(=O)c2cc(OCCCCCCCCCOCC3CCCN3c3ccc([N...</td>\n",
       "      <td>NaN</td>\n",
       "      <td>0.355470</td>\n",
       "      <td>NaN</td>\n",
       "      <td>NaN</td>\n",
       "      <td>NaN</td>\n",
       "      <td>0</td>\n",
       "      <td>0</td>\n",
       "      <td>0</td>\n",
       "      <td>...</td>\n",
       "      <td>965.154</td>\n",
       "      <td>182.28</td>\n",
       "      <td>376</td>\n",
       "      <td>70</td>\n",
       "      <td>6</td>\n",
       "      <td>34</td>\n",
       "      <td>11.84500</td>\n",
       "      <td>266.9958</td>\n",
       "      <td>14</td>\n",
       "      <td>0</td>\n",
       "    </tr>\n",
       "  </tbody>\n",
       "</table>\n",
       "<p>5 rows × 183 columns</p>\n",
       "</div>"
      ],
      "text/plain": [
       "       id                                             SMILES  Tg       FFV  \\\n",
       "0   87817                         *CC(*)c1ccccc1C(=O)OCCCCCC NaN  0.374645   \n",
       "1  106919  *Nc1ccc([C@H](CCC)c2ccc(C3(c4ccc([C@@H](CCC)c5... NaN  0.370410   \n",
       "2  388772  *Oc1ccc(S(=O)(=O)c2ccc(Oc3ccc(C4(c5ccc(Oc6ccc(... NaN  0.378860   \n",
       "3  519416  *Nc1ccc(-c2c(-c3ccc(C)cc3)c(-c3ccc(C)cc3)c(N*)... NaN  0.387324   \n",
       "4  539187  *Oc1ccc(OC(=O)c2cc(OCCCCCCCCCOCC3CCCN3c3ccc([N... NaN  0.355470   \n",
       "\n",
       "         Tc  Density  Rg  MACCS_1  MACCS_2  MACCS_3  ...     MolWt    TPSA  \\\n",
       "0  0.205667      NaN NaN        0        0        0  ...   232.323   26.30   \n",
       "1       NaN      NaN NaN        0        0        0  ...   598.919   24.06   \n",
       "2       NaN      NaN NaN        0        0        0  ...  1003.207  122.27   \n",
       "3       NaN      NaN NaN        0        0        0  ...   542.726   24.06   \n",
       "4       NaN      NaN NaN        0        0        0  ...   965.154  182.28   \n",
       "\n",
       "   NumValenceElectrons  NumHeavyAtoms  NumRings  NumRotatableBonds   MolLogP  \\\n",
       "0                   92             17         1                  8   3.98170   \n",
       "1                  236             45         5                 16  12.35960   \n",
       "2                  364             73        10                 15  14.21700   \n",
       "3                  204             42         6                  7  11.00768   \n",
       "4                  376             70         6                 34  11.84500   \n",
       "\n",
       "      MolMR  NumHAcceptors  NumHDonors  \n",
       "0   68.4145              2           0  \n",
       "1  193.3954              2           2  \n",
       "2  281.6006              9           0  \n",
       "3  179.8154              2           2  \n",
       "4  266.9958             14           0  \n",
       "\n",
       "[5 rows x 183 columns]"
      ]
     },
     "execution_count": 8,
     "metadata": {},
     "output_type": "execute_result"
    }
   ],
   "source": [
    "train_rdkit.head()"
   ]
  },
  {
   "cell_type": "code",
   "execution_count": 9,
   "id": "2763b820-2e61-4735-bb7c-2c9b4956b98f",
   "metadata": {},
   "outputs": [],
   "source": [
    "class NeurIPSDS(Dataset):\n",
    "    def __init__(self, df, feats, targ):\n",
    "        self.X = df[feats].astype('float32').values\n",
    "        self.y = df[targ].astype('float32').values\n",
    "        \n",
    "    def __len__(self):\n",
    "        return len(self.X)\n",
    "    \n",
    "    def __getitem__(self, idx):\n",
    "        return torch.tensor(self.X[idx]), torch.tensor(self.y[idx])"
   ]
  },
  {
   "cell_type": "code",
   "execution_count": 10,
   "id": "3b7c3d12-3c8e-4dc0-9c3f-2e726a7b8dad",
   "metadata": {},
   "outputs": [],
   "source": [
    "feat_cols = train_rdkit.columns.tolist()[7:]\n",
    "targs = train_rdkit.columns.tolist()[2:7]\n",
    "bs = 512"
   ]
  },
  {
   "cell_type": "code",
   "execution_count": 11,
   "id": "8fdfc989-72f0-457f-8a7e-e583f1b11408",
   "metadata": {},
   "outputs": [
    {
     "data": {
      "text/plain": [
       "['Tg', 'FFV', 'Tc', 'Density', 'Rg']"
      ]
     },
     "execution_count": 11,
     "metadata": {},
     "output_type": "execute_result"
    }
   ],
   "source": [
    "targs"
   ]
  },
  {
   "cell_type": "code",
   "execution_count": 12,
   "id": "85cdd4f8-7fbf-4ffb-bb90-c164fcc44417",
   "metadata": {},
   "outputs": [],
   "source": [
    "def get_dls(train_ds, val_ds, bs, **kwargs):\n",
    "        return (DataLoader(train_ds, batch_size=bs, shuffle=True, **kwargs),\n",
    "                DataLoader(train_ds, batch_size=bs, shuffle=False, **kwargs))"
   ]
  },
  {
   "cell_type": "code",
   "execution_count": 13,
   "id": "7610aa93-19f3-433b-a269-fef7349ab813",
   "metadata": {},
   "outputs": [],
   "source": [
    "class DataLoaders:\n",
    "    def __init__(self, *dls): self.train, self.valid = dls[:2]\n",
    "    \n",
    "    @classmethod\n",
    "    def dls(cls, train_ds, val_ds, bs, **kwargs):\n",
    "        return cls(*get_dls(train_ds, val_ds, bs=bs, **kwargs))"
   ]
  },
  {
   "cell_type": "code",
   "execution_count": 14,
   "id": "27c3be7c-fdc5-43b6-abca-341d427304f6",
   "metadata": {},
   "outputs": [],
   "source": [
    "def get_dataloaders(df, targ, batch_size=16):\n",
    "    df2 = df.copy()\n",
    "    df2 = df2[feat_cols + [targ]].dropna()\n",
    "    scaler = StandardScaler()\n",
    "    df2[feat_cols] = scaler.fit_transform(df2[feat_cols])\n",
    "    \n",
    "    # with open(os.path.join(save_dir, f'{target}_scaler.pkl'), 'wb') as f:\n",
    "    #         pickle.dump(scaler, f)\n",
    "    \n",
    "    train_df, val_df = train_test_split(df2, test_size=0.2, random_state=42)\n",
    "    \n",
    "    train_ds = NeurIPSDS(train_df, feat_cols, targ)\n",
    "    val_ds = NeurIPSDS(val_df, feat_cols, targ)\n",
    "    \n",
    "    dls = DataLoaders.dls(train_ds, val_ds, bs)\n",
    "    \n",
    "    return dls"
   ]
  },
  {
   "cell_type": "code",
   "execution_count": 15,
   "id": "69ce008a-aa14-4b06-8e75-bc777ce98130",
   "metadata": {},
   "outputs": [],
   "source": [
    "def get_one_layer(inp_dim, out_dim, act=True):\n",
    "    res = nn.Linear(inp_dim, out_dim)\n",
    "    if act: res = nn.Sequential(res, nn.ReLU())\n",
    "    return res\n",
    "\n",
    "def get_model():\n",
    "    return nn.Sequential(\n",
    "        get_one_layer(len(feat_cols), 128),\n",
    "        get_one_layer(128, 64),\n",
    "        get_one_layer(64,1,act=False)\n",
    "    )"
   ]
  },
  {
   "cell_type": "code",
   "execution_count": 16,
   "id": "d405ddc1-89db-452e-abb7-4566bbb127f2",
   "metadata": {},
   "outputs": [],
   "source": [
    "#torch.manual_seed(42)\n",
    "model = get_model()"
   ]
  },
  {
   "cell_type": "code",
   "execution_count": 17,
   "id": "56610261-de53-4b5c-a637-7a1d4cdba36a",
   "metadata": {},
   "outputs": [
    {
     "data": {
      "text/plain": [
       "Sequential(\n",
       "  (0): Sequential(\n",
       "    (0): Linear(in_features=176, out_features=128, bias=True)\n",
       "    (1): ReLU()\n",
       "  )\n",
       "  (1): Sequential(\n",
       "    (0): Linear(in_features=128, out_features=64, bias=True)\n",
       "    (1): ReLU()\n",
       "  )\n",
       "  (2): Linear(in_features=64, out_features=1, bias=True)\n",
       ")"
      ]
     },
     "execution_count": 17,
     "metadata": {},
     "output_type": "execute_result"
    }
   ],
   "source": [
    "model"
   ]
  },
  {
   "cell_type": "code",
   "execution_count": 18,
   "id": "8b6019c2-ffb2-4864-82f8-07c55be18848",
   "metadata": {},
   "outputs": [],
   "source": [
    "dls = get_dataloaders(train_rdkit, 'FFV')"
   ]
  },
  {
   "cell_type": "code",
   "execution_count": 19,
   "id": "7284d197-c887-4229-9bc3-d3c99cff299a",
   "metadata": {},
   "outputs": [
    {
     "data": {
      "image/png": "[encoded data removed]",
      "text/plain": [
       "<Figure size 432x288 with 1 Axes>"
      ]
     },
     "metadata": {
      "needs_background": "light"
     },
     "output_type": "display_data"
    }
   ],
   "source": [
    "MomentumLearner(model, dls, F.l1_loss, cbs=[DeviceCB()]).lr_find()"
   ]
  },
  {
   "cell_type": "code",
   "execution_count": 20,
   "id": "eb0ad0e0-c526-4ec9-bba0-4770586c840b",
   "metadata": {},
   "outputs": [
    {
     "name": "stdout",
     "output_type": "stream",
     "text": [
      "Linear\n",
      "ReLU\n",
      "Sequential\n",
      "Linear\n",
      "ReLU\n",
      "Sequential\n",
      "Linear\n",
      "Sequential\n"
     ]
    }
   ],
   "source": [
    "model = get_model()\n",
    "model.apply(lambda m: print(type(m).__name__));"
   ]
  },
  {
   "cell_type": "code",
   "execution_count": 21,
   "id": "cd97f9d1-ddea-47ec-b3f3-d1657f71c7fa",
   "metadata": {},
   "outputs": [],
   "source": [
    "def init_weights(m):\n",
    "    if isinstance(m, (nn.Linear)): init.kaiming_normal_(m.weight)"
   ]
  },
  {
   "cell_type": "code",
   "execution_count": 22,
   "id": "ca591a6f-06c1-4170-8ab3-55676e9de9cd",
   "metadata": {},
   "outputs": [],
   "source": [
    "model.apply(init_weights);"
   ]
  },
  {
   "cell_type": "code",
   "execution_count": 23,
   "id": "18199d71-5c7b-4831-9c03-157042393965",
   "metadata": {},
   "outputs": [
    {
     "data": {
      "image/png": "[encoded data removed]",
      "text/plain": [
       "<Figure size 432x288 with 1 Axes>"
      ]
     },
     "metadata": {
      "needs_background": "light"
     },
     "output_type": "display_data"
    }
   ],
   "source": [
    "MomentumLearner(model, dls, F.l1_loss, cbs=[DeviceCB()]).lr_find()"
   ]
  },
  {
   "cell_type": "code",
   "execution_count": 64,
   "id": "efff1171-1492-49c4-a31d-96cefe81e361",
   "metadata": {},
   "outputs": [],
   "source": [
    "class LossCB(Callback):\n",
    "    def __init__(self): self.losses, self.epochs = [], []\n",
    "    def after_epoch(self, learn):\n",
    "        if not learn.training:\n",
    "            self.losses.append(learn.loss.item())\n",
    "            self.epochs.append(learn.epoch)\n",
    "        print(learn.epoch, learn.loss.item(), 'train' if learn.training else 'eval')\n",
    "    def after_fit(self, learn):\n",
    "        plt.plot(self.epochs,self.losses)\n",
    "        plt.xticks(ticks=self.epochs)"
   ]
  },
  {
   "cell_type": "code",
   "execution_count": 65,
   "id": "fdc5eb80-d278-4d41-8d40-83de7ab8a14d",
   "metadata": {},
   "outputs": [],
   "source": [
    "astats = ActivationStats(fc.risinstance(nn.ReLU))\n",
    "cbs = [DeviceCB(), ProgressCB(plot=True), LossCB(), astats]"
   ]
  },
  {
   "cell_type": "code",
   "execution_count": 66,
   "id": "0b11ec53-c0e5-4cb6-856c-c258ec765b84",
   "metadata": {},
   "outputs": [],
   "source": [
    "set_seed(42)\n",
    "learn = MomentumLearner(get_model().apply(init_weights), dls, F.l1_loss, lr=8e-3, cbs=cbs)"
   ]
  },
  {
   "cell_type": "code",
   "execution_count": 67,
   "id": "c7788500-8124-4a47-80d9-72fb2567bfe9",
   "metadata": {},
   "outputs": [
    {
     "data": {
      "text/html": [
       "\n",
       "<style>\n",
       "    /* Turns off some styling */\n",
       "    progress {\n",
       "        /* gets rid of default border in Firefox and Opera. */\n",
       "        border: none;\n",
       "        /* Needs to be in here for Safari polyfill so background images work as expected. */\n",
       "        background-size: auto;\n",
       "    }\n",
       "    progress:not([value]), progress:not([value])::-webkit-progress-bar {\n",
       "        background: repeating-linear-gradient(45deg, #7e7e7e, #7e7e7e 10px, #5c5c5c 10px, #5c5c5c 20px);\n",
       "    }\n",
       "    .progress-bar-interrupted, .progress-bar-interrupted::-webkit-progress-bar {\n",
       "        background: #F44336;\n",
       "    }\n",
       "</style>\n"
      ],
      "text/plain": [
       "<IPython.core.display.HTML object>"
      ]
     },
     "metadata": {},
     "output_type": "display_data"
    },
    {
     "data": {
      "text/html": [],
      "text/plain": [
       "<IPython.core.display.HTML object>"
      ]
     },
     "metadata": {},
     "output_type": "display_data"
    },
    {
     "name": "stdout",
     "output_type": "stream",
     "text": [
      "0 0.42405039072036743 train\n",
      "0 0.32211413979530334 eval\n",
      "1 0.24208079278469086 train\n",
      "1 0.19545301795005798 eval\n",
      "2 0.15030185878276825 train\n",
      "2 0.14502403140068054 eval\n"
     ]
    },
    {
     "data": {
      "image/png": "[encoded data removed]",
      "text/plain": [
       "<Figure size 432x288 with 1 Axes>"
      ]
     },
     "metadata": {
      "needs_background": "light"
     },
     "output_type": "display_data"
    }
   ],
   "source": [
    "learn.fit(3)"
   ]
  },
  {
   "cell_type": "code",
   "execution_count": 45,
   "id": "c20f3ef5-33ae-4d62-a6a1-a7aec9e5f98b",
   "metadata": {},
   "outputs": [
    {
     "data": {
      "image/png": "[encoded data removed]",
      "text/plain": [
       "<Figure size 432x288 with 1 Axes>"
      ]
     },
     "metadata": {
      "needs_background": "light"
     },
     "output_type": "display_data"
    }
   ],
   "source": [
    "set_seed(42)\n",
    "model = get_model()\n",
    "\n",
    "for name, module in model.named_modules():\n",
    "    if isinstance(module, nn.Linear):\n",
    "        if module.out_features != 1:  # avoid output layer\n",
    "            nn.init.kaiming_normal_(module.weight, nonlinearity='relu')\n",
    "        else:\n",
    "            nn.init.xavier_uniform_(module.weight)\n",
    "        if module.bias is not None:\n",
    "            nn.init.zeros_(module.bias)\n",
    "            \n",
    "MomentumLearner(model, dls, F.l1_loss, cbs=[DeviceCB()]).lr_find()"
   ]
  },
  {
   "cell_type": "code",
   "execution_count": 46,
   "id": "3ae622f5-80ba-4cba-9e8f-ffc4a05d3454",
   "metadata": {},
   "outputs": [
    {
     "data": {
      "image/png": "[encoded data removed]",
      "text/plain": [
       "<Figure size 792x360 with 2 Axes>"
      ]
     },
     "metadata": {},
     "output_type": "display_data"
    }
   ],
   "source": [
    "astats.color_dim()"
   ]
  },
  {
   "cell_type": "code",
   "execution_count": 47,
   "id": "47cd372c-1e6b-4bf9-8831-d24539efe7e6",
   "metadata": {},
   "outputs": [
    {
     "data": {
      "image/png": "[encoded data removed]",
      "text/plain": [
       "<Figure size 720x288 with 2 Axes>"
      ]
     },
     "metadata": {
      "needs_background": "light"
     },
     "output_type": "display_data"
    }
   ],
   "source": [
    "astats.plot_stats()"
   ]
  },
  {
   "cell_type": "code",
   "execution_count": 48,
   "id": "32db074f-ded7-4c8a-8747-9182cc266d05",
   "metadata": {},
   "outputs": [
    {
     "data": {
      "text/plain": [
       "(torch.Size([512, 176]), torch.Size([512]))"
      ]
     },
     "execution_count": 48,
     "metadata": {},
     "output_type": "execute_result"
    }
   ],
   "source": [
    "dt = dls.train\n",
    "xb, yb = next(iter(dt))\n",
    "xb.shape, yb.shape"
   ]
  },
  {
   "cell_type": "code",
   "execution_count": 49,
   "id": "d32e5ef0-d33a-442c-bc6f-82c99dc2963e",
   "metadata": {},
   "outputs": [
    {
     "data": {
      "text/plain": [
       "(tensor(0.0040), tensor(1.0015))"
      ]
     },
     "execution_count": 49,
     "metadata": {},
     "output_type": "execute_result"
    }
   ],
   "source": [
    "xmean, xstd = xb.mean(), xb.std()\n",
    "xmean, xstd"
   ]
  },
  {
   "cell_type": "code",
   "execution_count": 50,
   "id": "a84a42d3-e80a-4c8f-9e85-8c60be47ae1b",
   "metadata": {},
   "outputs": [
    {
     "data": {
      "text/plain": [
       "\u001b[0;31mSignature:\u001b[0m \u001b[0mget_model\u001b[0m\u001b[0;34m(\u001b[0m\u001b[0;34m)\u001b[0m\u001b[0;34m\u001b[0m\u001b[0;34m\u001b[0m\u001b[0m\n",
       "\u001b[0;31mDocstring:\u001b[0m <no docstring>\n",
       "\u001b[0;31mSource:\u001b[0m   \n",
       "\u001b[0;32mdef\u001b[0m \u001b[0mget_model\u001b[0m\u001b[0;34m(\u001b[0m\u001b[0;34m)\u001b[0m\u001b[0;34m:\u001b[0m\u001b[0;34m\u001b[0m\n",
       "\u001b[0;34m\u001b[0m    \u001b[0;32mreturn\u001b[0m \u001b[0mnn\u001b[0m\u001b[0;34m.\u001b[0m\u001b[0mSequential\u001b[0m\u001b[0;34m(\u001b[0m\u001b[0;34m\u001b[0m\n",
       "\u001b[0;34m\u001b[0m        \u001b[0mget_one_layer\u001b[0m\u001b[0;34m(\u001b[0m\u001b[0mlen\u001b[0m\u001b[0;34m(\u001b[0m\u001b[0mfeat_cols\u001b[0m\u001b[0;34m)\u001b[0m\u001b[0;34m,\u001b[0m \u001b[0;36m128\u001b[0m\u001b[0;34m)\u001b[0m\u001b[0;34m,\u001b[0m\u001b[0;34m\u001b[0m\n",
       "\u001b[0;34m\u001b[0m        \u001b[0mget_one_layer\u001b[0m\u001b[0;34m(\u001b[0m\u001b[0;36m128\u001b[0m\u001b[0;34m,\u001b[0m \u001b[0;36m64\u001b[0m\u001b[0;34m)\u001b[0m\u001b[0;34m,\u001b[0m\u001b[0;34m\u001b[0m\n",
       "\u001b[0;34m\u001b[0m        \u001b[0mget_one_layer\u001b[0m\u001b[0;34m(\u001b[0m\u001b[0;36m64\u001b[0m\u001b[0;34m,\u001b[0m\u001b[0;36m1\u001b[0m\u001b[0;34m,\u001b[0m\u001b[0mact\u001b[0m\u001b[0;34m=\u001b[0m\u001b[0;32mFalse\u001b[0m\u001b[0;34m)\u001b[0m\u001b[0;34m\u001b[0m\n",
       "\u001b[0;34m\u001b[0m    \u001b[0;34m)\u001b[0m\u001b[0;34m\u001b[0m\u001b[0;34m\u001b[0m\u001b[0m\n",
       "\u001b[0;31mFile:\u001b[0m      /tmp/ipykernel_1818/3814607028.py\n",
       "\u001b[0;31mType:\u001b[0m      function\n"
      ]
     },
     "metadata": {},
     "output_type": "display_data"
    }
   ],
   "source": [
    "get_model??"
   ]
  },
  {
   "cell_type": "code",
   "execution_count": 51,
   "id": "cb6cb648-9403-4659-a7b0-83f65024c459",
   "metadata": {},
   "outputs": [
    {
     "data": {
      "text/plain": [
       "\u001b[0;31mSignature:\u001b[0m \u001b[0mget_one_layer\u001b[0m\u001b[0;34m(\u001b[0m\u001b[0minp_dim\u001b[0m\u001b[0;34m,\u001b[0m \u001b[0mout_dim\u001b[0m\u001b[0;34m,\u001b[0m \u001b[0mact\u001b[0m\u001b[0;34m=\u001b[0m\u001b[0;32mTrue\u001b[0m\u001b[0;34m)\u001b[0m\u001b[0;34m\u001b[0m\u001b[0;34m\u001b[0m\u001b[0m\n",
       "\u001b[0;31mDocstring:\u001b[0m <no docstring>\n",
       "\u001b[0;31mSource:\u001b[0m   \n",
       "\u001b[0;32mdef\u001b[0m \u001b[0mget_one_layer\u001b[0m\u001b[0;34m(\u001b[0m\u001b[0minp_dim\u001b[0m\u001b[0;34m,\u001b[0m \u001b[0mout_dim\u001b[0m\u001b[0;34m,\u001b[0m \u001b[0mact\u001b[0m\u001b[0;34m=\u001b[0m\u001b[0;32mTrue\u001b[0m\u001b[0;34m)\u001b[0m\u001b[0;34m:\u001b[0m\u001b[0;34m\u001b[0m\n",
       "\u001b[0;34m\u001b[0m    \u001b[0mres\u001b[0m \u001b[0;34m=\u001b[0m \u001b[0mnn\u001b[0m\u001b[0;34m.\u001b[0m\u001b[0mLinear\u001b[0m\u001b[0;34m(\u001b[0m\u001b[0minp_dim\u001b[0m\u001b[0;34m,\u001b[0m \u001b[0mout_dim\u001b[0m\u001b[0;34m)\u001b[0m\u001b[0;34m\u001b[0m\n",
       "\u001b[0;34m\u001b[0m    \u001b[0;32mif\u001b[0m \u001b[0mact\u001b[0m\u001b[0;34m:\u001b[0m \u001b[0mres\u001b[0m \u001b[0;34m=\u001b[0m \u001b[0mnn\u001b[0m\u001b[0;34m.\u001b[0m\u001b[0mSequential\u001b[0m\u001b[0;34m(\u001b[0m\u001b[0mres\u001b[0m\u001b[0;34m,\u001b[0m \u001b[0mnn\u001b[0m\u001b[0;34m.\u001b[0m\u001b[0mReLU\u001b[0m\u001b[0;34m(\u001b[0m\u001b[0;34m)\u001b[0m\u001b[0;34m)\u001b[0m\u001b[0;34m\u001b[0m\n",
       "\u001b[0;34m\u001b[0m    \u001b[0;32mreturn\u001b[0m \u001b[0mres\u001b[0m\u001b[0;34m\u001b[0m\u001b[0;34m\u001b[0m\u001b[0m\n",
       "\u001b[0;31mFile:\u001b[0m      /tmp/ipykernel_1818/3814607028.py\n",
       "\u001b[0;31mType:\u001b[0m      function\n"
      ]
     },
     "metadata": {},
     "output_type": "display_data"
    }
   ],
   "source": [
    "get_one_layer??"
   ]
  },
  {
   "cell_type": "code",
   "execution_count": 84,
   "id": "60a6e960-106a-48b2-a6fc-83821f5db459",
   "metadata": {},
   "outputs": [],
   "source": [
    "def get_one_layer(ni, nf, act=nn.ReLU, norm=None, bias=None):\n",
    "    if bias is None:\n",
    "        bias = not (norm and issubclass(norm, (nn.BatchNorm1d, nn.BatchNorm2d, nn.BatchNorm3d)))\n",
    "    layers = [nn.Linear(ni, nf, bias=bias)]\n",
    "    if norm: layers.append(norm(nf))\n",
    "    if act: layers.append(act())\n",
    "    return nn.Sequential(*layers)\n",
    "\n",
    "def get_model(act=nn.ReLU, nfs=None, norm=None):\n",
    "    if nfs is None: nfs = [len(feat_cols), 512, 256, 128, 64, 32]\n",
    "    layers = [get_one_layer(nfs[i], nfs[i+1], act=act, norm=norm) for i in range(len(nfs)-1)]\n",
    "    return nn.Sequential(*layers, get_one_layer(nfs[-1], 1, act=None, norm=None, bias=True)).to(def_device)"
   ]
  },
  {
   "cell_type": "code",
   "execution_count": 88,
   "id": "23a2c1de-2bc0-4383-a778-a5f67479acb2",
   "metadata": {},
   "outputs": [],
   "source": [
    "def init_weights(m, leaky=0.):\n",
    "    if isinstance(m, (nn.Conv1d,nn.Conv2d,nn.Conv3d)): init.kaiming_normal_(m.weight, a=leaky)"
   ]
  },
  {
   "cell_type": "code",
   "execution_count": 96,
   "id": "cc51f8bc-0e9c-488a-88c9-3c394a2221ba",
   "metadata": {},
   "outputs": [],
   "source": [
    "model = get_model(norm=nn.BatchNorm1d).apply(iw)"
   ]
  },
  {
   "cell_type": "code",
   "execution_count": 97,
   "id": "916a089f-d6d0-4179-b587-58a1707958a2",
   "metadata": {},
   "outputs": [
    {
     "data": {
      "text/plain": [
       "Sequential(\n",
       "  (0): Sequential(\n",
       "    (0): Linear(in_features=176, out_features=512, bias=False)\n",
       "    (1): BatchNorm1d(512, eps=1e-05, momentum=0.1, affine=True, track_running_stats=True)\n",
       "    (2): ReLU()\n",
       "  )\n",
       "  (1): Sequential(\n",
       "    (0): Linear(in_features=512, out_features=256, bias=False)\n",
       "    (1): BatchNorm1d(256, eps=1e-05, momentum=0.1, affine=True, track_running_stats=True)\n",
       "    (2): ReLU()\n",
       "  )\n",
       "  (2): Sequential(\n",
       "    (0): Linear(in_features=256, out_features=128, bias=False)\n",
       "    (1): BatchNorm1d(128, eps=1e-05, momentum=0.1, affine=True, track_running_stats=True)\n",
       "    (2): ReLU()\n",
       "  )\n",
       "  (3): Sequential(\n",
       "    (0): Linear(in_features=128, out_features=64, bias=False)\n",
       "    (1): BatchNorm1d(64, eps=1e-05, momentum=0.1, affine=True, track_running_stats=True)\n",
       "    (2): ReLU()\n",
       "  )\n",
       "  (4): Sequential(\n",
       "    (0): Linear(in_features=64, out_features=32, bias=False)\n",
       "    (1): BatchNorm1d(32, eps=1e-05, momentum=0.1, affine=True, track_running_stats=True)\n",
       "    (2): ReLU()\n",
       "  )\n",
       "  (5): Sequential(\n",
       "    (0): Linear(in_features=32, out_features=1, bias=True)\n",
       "  )\n",
       ")"
      ]
     },
     "execution_count": 97,
     "metadata": {},
     "output_type": "execute_result"
    }
   ],
   "source": [
    "model"
   ]
  },
  {
   "cell_type": "code",
   "execution_count": 98,
   "id": "efd62a11-46d9-48c4-b3f4-54ed52cba181",
   "metadata": {},
   "outputs": [],
   "source": [
    "from functools import partial\n",
    "\n",
    "act_gr = partial(GeneralRelu, leak=0.1, sub=0.4)\n",
    "astats = ActivationStats(fc.risinstance(GeneralRelu))\n",
    "cbs = [DeviceCB(), ProgressCB(plot=True), LossCB(), astats]\n",
    "iw = partial(init_weights, leaky=0.1)"
   ]
  },
  {
   "cell_type": "code",
   "execution_count": 99,
   "id": "954dcfd2-f3f2-47f4-972b-4f53cda39995",
   "metadata": {},
   "outputs": [
    {
     "data": {
      "text/html": [
       "\n",
       "<style>\n",
       "    /* Turns off some styling */\n",
       "    progress {\n",
       "        /* gets rid of default border in Firefox and Opera. */\n",
       "        border: none;\n",
       "        /* Needs to be in here for Safari polyfill so background images work as expected. */\n",
       "        background-size: auto;\n",
       "    }\n",
       "    progress:not([value]), progress:not([value])::-webkit-progress-bar {\n",
       "        background: repeating-linear-gradient(45deg, #7e7e7e, #7e7e7e 10px, #5c5c5c 10px, #5c5c5c 20px);\n",
       "    }\n",
       "    .progress-bar-interrupted, .progress-bar-interrupted::-webkit-progress-bar {\n",
       "        background: #F44336;\n",
       "    }\n",
       "</style>\n"
      ],
      "text/plain": [
       "<IPython.core.display.HTML object>"
      ]
     },
     "metadata": {},
     "output_type": "display_data"
    },
    {
     "data": {
      "text/html": [],
      "text/plain": [
       "<IPython.core.display.HTML object>"
      ]
     },
     "metadata": {},
     "output_type": "display_data"
    },
    {
     "name": "stdout",
     "output_type": "stream",
     "text": [
      "0 0.12879547476768494 train\n",
      "0 0.15975625813007355 eval\n",
      "1 0.06657928973436356 train\n",
      "1 0.10508853197097778 eval\n",
      "2 0.04741883650422096 train\n",
      "2 0.05416501313447952 eval\n",
      "3 0.04135928675532341 train\n",
      "3 0.03597846254706383 eval\n",
      "4 0.034145135432481766 train\n",
      "4 0.033673517405986786 eval\n",
      "5 0.03700726851820946 train\n",
      "5 0.030095890164375305 eval\n",
      "6 0.028105631470680237 train\n",
      "6 0.02730177901685238 eval\n",
      "7 0.028194503858685493 train\n",
      "7 0.026044970378279686 eval\n",
      "8 0.025295868515968323 train\n",
      "8 0.024676131084561348 eval\n",
      "9 0.027168020606040955 train\n",
      "9 0.02428819052875042 eval\n"
     ]
    },
    {
     "data": {
      "image/png": "[encoded data removed]",
      "text/plain": [
       "<Figure size 432x288 with 1 Axes>"
      ]
     },
     "metadata": {
      "needs_background": "light"
     },
     "output_type": "display_data"
    }
   ],
   "source": [
    "set_seed(42)\n",
    "learn = MomentumLearner(model, dls, F.l1_loss, lr=8e-3, cbs=cbs)\n",
    "learn.fit(10)"
   ]
  },
  {
   "cell_type": "code",
   "execution_count": null,
   "id": "c9fbfa73-b2f4-417a-b379-37228c275fd2",
   "metadata": {},
   "outputs": [],
   "source": []
  }
 ],
 "metadata": {
  "kernelspec": {
   "display_name": "Python 3 (ipykernel)",
   "language": "python",
   "name": "python3"
  },
  "language_info": {
   "codemirror_mode": {
    "name": "ipython",
    "version": 3
   },
   "file_extension": ".py",
   "mimetype": "text/x-python",
   "name": "python",
   "nbconvert_exporter": "python",
   "pygments_lexer": "ipython3",
   "version": "3.9.13"
  }
 },
 "nbformat": 4,
 "nbformat_minor": 5
}
