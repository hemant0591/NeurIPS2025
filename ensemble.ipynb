{
 "cells": [
  {
   "cell_type": "code",
   "execution_count": 1,
   "id": "9aae1ebd",
   "metadata": {
    "_cell_guid": "b1076dfc-b9ad-4769-8c92-a6c4dae69d19",
    "_uuid": "8f2839f25d086af736a60e9eeb907d3b93b6e0e5",
    "execution": {
     "iopub.execute_input": "2025-07-11T07:37:48.813068Z",
     "iopub.status.busy": "2025-07-11T07:37:48.812699Z",
     "iopub.status.idle": "2025-07-11T07:37:56.474348Z",
     "shell.execute_reply": "2025-07-11T07:37:56.472958Z"
    },
    "papermill": {
     "duration": 7.672208,
     "end_time": "2025-07-11T07:37:56.476371",
     "exception": false,
     "start_time": "2025-07-11T07:37:48.804163",
     "status": "completed"
    },
    "tags": []
   },
   "outputs": [
    {
     "name": "stdout",
     "output_type": "stream",
     "text": [
      "Processing /kaggle/input/rdkit-2025-3-3-cp311/rdkit-2025.3.3-cp311-cp311-manylinux_2_28_x86_64.whl\r\n",
      "Requirement already satisfied: numpy in /usr/local/lib/python3.11/dist-packages (from rdkit==2025.3.3) (1.26.4)\r\n",
      "Requirement already satisfied: Pillow in /usr/local/lib/python3.11/dist-packages (from rdkit==2025.3.3) (11.2.1)\r\n",
      "Requirement already satisfied: mkl_fft in /usr/local/lib/python3.11/dist-packages (from numpy->rdkit==2025.3.3) (1.3.8)\r\n",
      "Requirement already satisfied: mkl_random in /usr/local/lib/python3.11/dist-packages (from numpy->rdkit==2025.3.3) (1.2.4)\r\n",
      "Requirement already satisfied: mkl_umath in /usr/local/lib/python3.11/dist-packages (from numpy->rdkit==2025.3.3) (0.1.1)\r\n",
      "Requirement already satisfied: mkl in /usr/local/lib/python3.11/dist-packages (from numpy->rdkit==2025.3.3) (2025.2.0)\r\n",
      "Requirement already satisfied: tbb4py in /usr/local/lib/python3.11/dist-packages (from numpy->rdkit==2025.3.3) (2022.2.0)\r\n",
      "Requirement already satisfied: mkl-service in /usr/local/lib/python3.11/dist-packages (from numpy->rdkit==2025.3.3) (2.4.1)\r\n",
      "Requirement already satisfied: intel-openmp<2026,>=2024 in /usr/local/lib/python3.11/dist-packages (from mkl->numpy->rdkit==2025.3.3) (2024.2.0)\r\n",
      "Requirement already satisfied: tbb==2022.* in /usr/local/lib/python3.11/dist-packages (from mkl->numpy->rdkit==2025.3.3) (2022.2.0)\r\n",
      "Requirement already satisfied: tcmlib==1.* in /usr/local/lib/python3.11/dist-packages (from tbb==2022.*->mkl->numpy->rdkit==2025.3.3) (1.4.0)\r\n",
      "Requirement already satisfied: intel-cmplr-lib-rt in /usr/local/lib/python3.11/dist-packages (from mkl_umath->numpy->rdkit==2025.3.3) (2024.2.0)\r\n",
      "Requirement already satisfied: intel-cmplr-lib-ur==2024.2.0 in /usr/local/lib/python3.11/dist-packages (from intel-openmp<2026,>=2024->mkl->numpy->rdkit==2025.3.3) (2024.2.0)\r\n",
      "Installing collected packages: rdkit\r\n",
      "Successfully installed rdkit-2025.3.3\r\n"
     ]
    }
   ],
   "source": [
    "!pip install /kaggle/input/rdkit-2025-3-3-cp311/rdkit-2025.3.3-cp311-cp311-manylinux_2_28_x86_64.whl"
   ]
  },
  {
   "cell_type": "code",
   "execution_count": 2,
   "id": "13fcfd88",
   "metadata": {
    "execution": {
     "iopub.execute_input": "2025-07-11T07:37:56.491635Z",
     "iopub.status.busy": "2025-07-11T07:37:56.491277Z",
     "iopub.status.idle": "2025-07-11T07:38:03.451876Z",
     "shell.execute_reply": "2025-07-11T07:38:03.450678Z"
    },
    "papermill": {
     "duration": 6.970389,
     "end_time": "2025-07-11T07:38:03.453765",
     "exception": false,
     "start_time": "2025-07-11T07:37:56.483376",
     "status": "completed"
    },
    "tags": []
   },
   "outputs": [],
   "source": [
    "import pandas as pd\n",
    "import numpy as np\n",
    "\n",
    "from tqdm import tqdm\n",
    "tqdm.pandas()\n",
    "\n",
    "from sklearn.ensemble import HistGradientBoostingRegressor,ExtraTreesRegressor\n",
    "from catboost import CatBoostRegressor\n",
    "from sklearn.model_selection import train_test_split\n",
    "from sklearn.metrics import mean_absolute_error\n",
    "\n",
    "\n",
    "import networkx as nx\n",
    "from rdkit.Chem import AllChem\n",
    "from rdkit.Chem import Descriptors\n",
    "from rdkit.Chem import rdmolops\n",
    "from rdkit import Chem\n",
    "\n",
    "import warnings\n",
    "warnings.filterwarnings(\"ignore\")\n",
    "pd.set_option('display.max_columns', None)"
   ]
  },
  {
   "cell_type": "code",
   "execution_count": 3,
   "id": "c04551d9",
   "metadata": {
    "execution": {
     "iopub.execute_input": "2025-07-11T07:38:03.468697Z",
     "iopub.status.busy": "2025-07-11T07:38:03.468099Z",
     "iopub.status.idle": "2025-07-11T07:38:03.472953Z",
     "shell.execute_reply": "2025-07-11T07:38:03.472136Z"
    },
    "papermill": {
     "duration": 0.014049,
     "end_time": "2025-07-11T07:38:03.474443",
     "exception": false,
     "start_time": "2025-07-11T07:38:03.460394",
     "status": "completed"
    },
    "tags": []
   },
   "outputs": [],
   "source": [
    "class CFG:\n",
    "    TARGETS = ['Tg', 'FFV', 'Tc', 'Density', 'Rg']\n",
    "    SEED = 42\n",
    "    FOLDS = 5"
   ]
  },
  {
   "cell_type": "markdown",
   "id": "e52faa81",
   "metadata": {
    "papermill": {
     "duration": 0.007211,
     "end_time": "2025-07-11T07:38:03.488529",
     "exception": false,
     "start_time": "2025-07-11T07:38:03.481318",
     "status": "completed"
    },
    "tags": []
   },
   "source": [
    "### Read Main Files"
   ]
  },
  {
   "cell_type": "code",
   "execution_count": 4,
   "id": "6cccd219",
   "metadata": {
    "execution": {
     "iopub.execute_input": "2025-07-11T07:38:03.504962Z",
     "iopub.status.busy": "2025-07-11T07:38:03.504619Z",
     "iopub.status.idle": "2025-07-11T07:38:03.574227Z",
     "shell.execute_reply": "2025-07-11T07:38:03.573258Z"
    },
    "papermill": {
     "duration": 0.08007,
     "end_time": "2025-07-11T07:38:03.576357",
     "exception": false,
     "start_time": "2025-07-11T07:38:03.496287",
     "status": "completed"
    },
    "tags": []
   },
   "outputs": [],
   "source": [
    "train=pd.read_csv('/kaggle/input/neurips-open-polymer-prediction-2025/train.csv')\n",
    "test=pd.read_csv('/kaggle/input/neurips-open-polymer-prediction-2025/test.csv')\n",
    "ss=pd.read_csv('/kaggle/input/neurips-open-polymer-prediction-2025/sample_submission.csv')\n",
    "ID=test['id'].copy()"
   ]
  },
  {
   "cell_type": "markdown",
   "id": "9ef31288",
   "metadata": {
    "papermill": {
     "duration": 0.006523,
     "end_time": "2025-07-11T07:38:03.589446",
     "exception": false,
     "start_time": "2025-07-11T07:38:03.582923",
     "status": "completed"
    },
    "tags": []
   },
   "source": [
    "### Read Extra Files"
   ]
  },
  {
   "cell_type": "code",
   "execution_count": 5,
   "id": "5cdb4f46",
   "metadata": {
    "execution": {
     "iopub.execute_input": "2025-07-11T07:38:03.604589Z",
     "iopub.status.busy": "2025-07-11T07:38:03.604281Z",
     "iopub.status.idle": "2025-07-11T07:38:04.623553Z",
     "shell.execute_reply": "2025-07-11T07:38:04.622403Z"
    },
    "papermill": {
     "duration": 1.02852,
     "end_time": "2025-07-11T07:38:04.625291",
     "exception": false,
     "start_time": "2025-07-11T07:38:03.596771",
     "status": "completed"
    },
    "tags": []
   },
   "outputs": [],
   "source": [
    "tc_smiles =pd.read_csv('/kaggle/input/tc-smiles/Tc_SMILES.csv')\n",
    "tg_smiles =pd.read_csv('/kaggle/input/smiles-extra-data/JCIM_sup_bigsmiles.csv')\n",
    "ktg_smiles =pd.read_excel('/kaggle/input/smiles-extra-data/data_tg3.xlsx')\n",
    "de_smiles =pd.read_excel('/kaggle/input/smiles-extra-data/data_dnst1.xlsx')"
   ]
  },
  {
   "cell_type": "code",
   "execution_count": 6,
   "id": "3179d7da",
   "metadata": {
    "execution": {
     "iopub.execute_input": "2025-07-11T07:38:04.640915Z",
     "iopub.status.busy": "2025-07-11T07:38:04.640406Z",
     "iopub.status.idle": "2025-07-11T07:38:04.666212Z",
     "shell.execute_reply": "2025-07-11T07:38:04.665323Z"
    },
    "papermill": {
     "duration": 0.035769,
     "end_time": "2025-07-11T07:38:04.667901",
     "exception": false,
     "start_time": "2025-07-11T07:38:04.632132",
     "status": "completed"
    },
    "tags": []
   },
   "outputs": [
    {
     "data": {
      "text/html": [
       "<div>\n",
       "<style scoped>\n",
       "    .dataframe tbody tr th:only-of-type {\n",
       "        vertical-align: middle;\n",
       "    }\n",
       "\n",
       "    .dataframe tbody tr th {\n",
       "        vertical-align: top;\n",
       "    }\n",
       "\n",
       "    .dataframe thead th {\n",
       "        text-align: right;\n",
       "    }\n",
       "</style>\n",
       "<table border=\"1\" class=\"dataframe\">\n",
       "  <thead>\n",
       "    <tr style=\"text-align: right;\">\n",
       "      <th></th>\n",
       "      <th>id</th>\n",
       "      <th>SMILES</th>\n",
       "      <th>Tg</th>\n",
       "      <th>FFV</th>\n",
       "      <th>Tc</th>\n",
       "      <th>Density</th>\n",
       "      <th>Rg</th>\n",
       "    </tr>\n",
       "  </thead>\n",
       "  <tbody>\n",
       "    <tr>\n",
       "      <th>0</th>\n",
       "      <td>87817</td>\n",
       "      <td>*CC(*)c1ccccc1C(=O)OCCCCCC</td>\n",
       "      <td>NaN</td>\n",
       "      <td>0.374645</td>\n",
       "      <td>0.205667</td>\n",
       "      <td>NaN</td>\n",
       "      <td>NaN</td>\n",
       "    </tr>\n",
       "    <tr>\n",
       "      <th>1</th>\n",
       "      <td>106919</td>\n",
       "      <td>*Nc1ccc([C@H](CCC)c2ccc(C3(c4ccc([C@@H](CCC)c5...</td>\n",
       "      <td>NaN</td>\n",
       "      <td>0.370410</td>\n",
       "      <td>NaN</td>\n",
       "      <td>NaN</td>\n",
       "      <td>NaN</td>\n",
       "    </tr>\n",
       "    <tr>\n",
       "      <th>2</th>\n",
       "      <td>388772</td>\n",
       "      <td>*Oc1ccc(S(=O)(=O)c2ccc(Oc3ccc(C4(c5ccc(Oc6ccc(...</td>\n",
       "      <td>NaN</td>\n",
       "      <td>0.378860</td>\n",
       "      <td>NaN</td>\n",
       "      <td>NaN</td>\n",
       "      <td>NaN</td>\n",
       "    </tr>\n",
       "    <tr>\n",
       "      <th>3</th>\n",
       "      <td>519416</td>\n",
       "      <td>*Nc1ccc(-c2c(-c3ccc(C)cc3)c(-c3ccc(C)cc3)c(N*)...</td>\n",
       "      <td>NaN</td>\n",
       "      <td>0.387324</td>\n",
       "      <td>NaN</td>\n",
       "      <td>NaN</td>\n",
       "      <td>NaN</td>\n",
       "    </tr>\n",
       "    <tr>\n",
       "      <th>4</th>\n",
       "      <td>539187</td>\n",
       "      <td>*Oc1ccc(OC(=O)c2cc(OCCCCCCCCCOCC3CCCN3c3ccc([N...</td>\n",
       "      <td>NaN</td>\n",
       "      <td>0.355470</td>\n",
       "      <td>NaN</td>\n",
       "      <td>NaN</td>\n",
       "      <td>NaN</td>\n",
       "    </tr>\n",
       "  </tbody>\n",
       "</table>\n",
       "</div>"
      ],
      "text/plain": [
       "       id                                             SMILES  Tg       FFV  \\\n",
       "0   87817                         *CC(*)c1ccccc1C(=O)OCCCCCC NaN  0.374645   \n",
       "1  106919  *Nc1ccc([C@H](CCC)c2ccc(C3(c4ccc([C@@H](CCC)c5... NaN  0.370410   \n",
       "2  388772  *Oc1ccc(S(=O)(=O)c2ccc(Oc3ccc(C4(c5ccc(Oc6ccc(... NaN  0.378860   \n",
       "3  519416  *Nc1ccc(-c2c(-c3ccc(C)cc3)c(-c3ccc(C)cc3)c(N*)... NaN  0.387324   \n",
       "4  539187  *Oc1ccc(OC(=O)c2cc(OCCCCCCCCCOCC3CCCN3c3ccc([N... NaN  0.355470   \n",
       "\n",
       "         Tc  Density  Rg  \n",
       "0  0.205667      NaN NaN  \n",
       "1       NaN      NaN NaN  \n",
       "2       NaN      NaN NaN  \n",
       "3       NaN      NaN NaN  \n",
       "4       NaN      NaN NaN  "
      ]
     },
     "execution_count": 6,
     "metadata": {},
     "output_type": "execute_result"
    }
   ],
   "source": [
    "train.head()"
   ]
  },
  {
   "cell_type": "code",
   "execution_count": 7,
   "id": "8d305086",
   "metadata": {
    "execution": {
     "iopub.execute_input": "2025-07-11T07:38:04.683209Z",
     "iopub.status.busy": "2025-07-11T07:38:04.682853Z",
     "iopub.status.idle": "2025-07-11T07:38:04.692396Z",
     "shell.execute_reply": "2025-07-11T07:38:04.691632Z"
    },
    "papermill": {
     "duration": 0.019153,
     "end_time": "2025-07-11T07:38:04.693923",
     "exception": false,
     "start_time": "2025-07-11T07:38:04.674770",
     "status": "completed"
    },
    "tags": []
   },
   "outputs": [
    {
     "data": {
      "text/html": [
       "<div>\n",
       "<style scoped>\n",
       "    .dataframe tbody tr th:only-of-type {\n",
       "        vertical-align: middle;\n",
       "    }\n",
       "\n",
       "    .dataframe tbody tr th {\n",
       "        vertical-align: top;\n",
       "    }\n",
       "\n",
       "    .dataframe thead th {\n",
       "        text-align: right;\n",
       "    }\n",
       "</style>\n",
       "<table border=\"1\" class=\"dataframe\">\n",
       "  <thead>\n",
       "    <tr style=\"text-align: right;\">\n",
       "      <th></th>\n",
       "      <th>TC_mean</th>\n",
       "      <th>SMILES</th>\n",
       "    </tr>\n",
       "  </thead>\n",
       "  <tbody>\n",
       "    <tr>\n",
       "      <th>0</th>\n",
       "      <td>0.244500</td>\n",
       "      <td>*CC(*)C</td>\n",
       "    </tr>\n",
       "    <tr>\n",
       "      <th>1</th>\n",
       "      <td>0.225333</td>\n",
       "      <td>*CC(*)CC</td>\n",
       "    </tr>\n",
       "    <tr>\n",
       "      <th>2</th>\n",
       "      <td>0.246333</td>\n",
       "      <td>*CC(*)CCC</td>\n",
       "    </tr>\n",
       "    <tr>\n",
       "      <th>3</th>\n",
       "      <td>0.186800</td>\n",
       "      <td>*CC(*)C(C)C</td>\n",
       "    </tr>\n",
       "    <tr>\n",
       "      <th>4</th>\n",
       "      <td>0.230667</td>\n",
       "      <td>*CC(*)CCCC</td>\n",
       "    </tr>\n",
       "  </tbody>\n",
       "</table>\n",
       "</div>"
      ],
      "text/plain": [
       "    TC_mean       SMILES\n",
       "0  0.244500      *CC(*)C\n",
       "1  0.225333     *CC(*)CC\n",
       "2  0.246333    *CC(*)CCC\n",
       "3  0.186800  *CC(*)C(C)C\n",
       "4  0.230667   *CC(*)CCCC"
      ]
     },
     "execution_count": 7,
     "metadata": {},
     "output_type": "execute_result"
    }
   ],
   "source": [
    "tc_smiles.head()"
   ]
  },
  {
   "cell_type": "code",
   "execution_count": 8,
   "id": "e0b48b91",
   "metadata": {
    "execution": {
     "iopub.execute_input": "2025-07-11T07:38:04.710470Z",
     "iopub.status.busy": "2025-07-11T07:38:04.709152Z",
     "iopub.status.idle": "2025-07-11T07:38:04.720809Z",
     "shell.execute_reply": "2025-07-11T07:38:04.719737Z"
    },
    "papermill": {
     "duration": 0.021111,
     "end_time": "2025-07-11T07:38:04.722494",
     "exception": false,
     "start_time": "2025-07-11T07:38:04.701383",
     "status": "completed"
    },
    "tags": []
   },
   "outputs": [
    {
     "data": {
      "text/html": [
       "<div>\n",
       "<style scoped>\n",
       "    .dataframe tbody tr th:only-of-type {\n",
       "        vertical-align: middle;\n",
       "    }\n",
       "\n",
       "    .dataframe tbody tr th {\n",
       "        vertical-align: top;\n",
       "    }\n",
       "\n",
       "    .dataframe thead th {\n",
       "        text-align: right;\n",
       "    }\n",
       "</style>\n",
       "<table border=\"1\" class=\"dataframe\">\n",
       "  <thead>\n",
       "    <tr style=\"text-align: right;\">\n",
       "      <th></th>\n",
       "      <th>Unnamed: 0</th>\n",
       "      <th>SMILES</th>\n",
       "      <th>BigSMILES</th>\n",
       "      <th>Tg (C)</th>\n",
       "    </tr>\n",
       "  </thead>\n",
       "  <tbody>\n",
       "    <tr>\n",
       "      <th>0</th>\n",
       "      <td>0</td>\n",
       "      <td>*C1COC2C1OCC2Oc1ccc(cc1)CNC(=O)CCCCCCC(=O)NCc1...</td>\n",
       "      <td>{&lt;Oc1ccc(cc1)CNC(=O)CCCCCCC(=O)NCc2ccc(cc2)OC3...</td>\n",
       "      <td>21.581731</td>\n",
       "    </tr>\n",
       "    <tr>\n",
       "      <th>1</th>\n",
       "      <td>1</td>\n",
       "      <td>*OC(CCC(OC(=O)Nc1ccc(cc1)Cc1ccc(cc1)NC(=O)*)C)C</td>\n",
       "      <td>{&lt;OC(C)CCC(C)OC(=O)Nc1ccc(cc1)Cc2ccc(cc2)NC(=O)&gt;}</td>\n",
       "      <td>63.589338</td>\n",
       "    </tr>\n",
       "    <tr>\n",
       "      <th>2</th>\n",
       "      <td>2</td>\n",
       "      <td>*OC(=O)c1ccc(cc1)C(=O)OCCCC(=O)NCc1ccc(cc1)CNC...</td>\n",
       "      <td>{&lt;CCCC(=O)NCc1ccc(cc1)CNC(=O)CCCOC(=O)c2ccc(cc...</td>\n",
       "      <td>53.557261</td>\n",
       "    </tr>\n",
       "    <tr>\n",
       "      <th>3</th>\n",
       "      <td>3</td>\n",
       "      <td>*OC(=O)NCCNC(=O)OCC*</td>\n",
       "      <td>{&lt;CCOC(=O)NCCNC(=O)O&gt;}</td>\n",
       "      <td>5.896093</td>\n",
       "    </tr>\n",
       "    <tr>\n",
       "      <th>4</th>\n",
       "      <td>4</td>\n",
       "      <td>*SCCCCC*</td>\n",
       "      <td>{&lt;CCCCCS&gt;}</td>\n",
       "      <td>-55.378610</td>\n",
       "    </tr>\n",
       "  </tbody>\n",
       "</table>\n",
       "</div>"
      ],
      "text/plain": [
       "   Unnamed: 0                                             SMILES  \\\n",
       "0           0  *C1COC2C1OCC2Oc1ccc(cc1)CNC(=O)CCCCCCC(=O)NCc1...   \n",
       "1           1    *OC(CCC(OC(=O)Nc1ccc(cc1)Cc1ccc(cc1)NC(=O)*)C)C   \n",
       "2           2  *OC(=O)c1ccc(cc1)C(=O)OCCCC(=O)NCc1ccc(cc1)CNC...   \n",
       "3           3                               *OC(=O)NCCNC(=O)OCC*   \n",
       "4           4                                           *SCCCCC*   \n",
       "\n",
       "                                           BigSMILES     Tg (C)  \n",
       "0  {<Oc1ccc(cc1)CNC(=O)CCCCCCC(=O)NCc2ccc(cc2)OC3...  21.581731  \n",
       "1  {<OC(C)CCC(C)OC(=O)Nc1ccc(cc1)Cc2ccc(cc2)NC(=O)>}  63.589338  \n",
       "2  {<CCCC(=O)NCc1ccc(cc1)CNC(=O)CCCOC(=O)c2ccc(cc...  53.557261  \n",
       "3                             {<CCOC(=O)NCCNC(=O)O>}   5.896093  \n",
       "4                                         {<CCCCCS>} -55.378610  "
      ]
     },
     "execution_count": 8,
     "metadata": {},
     "output_type": "execute_result"
    }
   ],
   "source": [
    "tg_smiles.head()"
   ]
  },
  {
   "cell_type": "code",
   "execution_count": 9,
   "id": "6aa54a25",
   "metadata": {
    "execution": {
     "iopub.execute_input": "2025-07-11T07:38:04.738426Z",
     "iopub.status.busy": "2025-07-11T07:38:04.738121Z",
     "iopub.status.idle": "2025-07-11T07:38:04.747783Z",
     "shell.execute_reply": "2025-07-11T07:38:04.746813Z"
    },
    "papermill": {
     "duration": 0.019664,
     "end_time": "2025-07-11T07:38:04.749441",
     "exception": false,
     "start_time": "2025-07-11T07:38:04.729777",
     "status": "completed"
    },
    "tags": []
   },
   "outputs": [
    {
     "data": {
      "text/html": [
       "<div>\n",
       "<style scoped>\n",
       "    .dataframe tbody tr th:only-of-type {\n",
       "        vertical-align: middle;\n",
       "    }\n",
       "\n",
       "    .dataframe tbody tr th {\n",
       "        vertical-align: top;\n",
       "    }\n",
       "\n",
       "    .dataframe thead th {\n",
       "        text-align: right;\n",
       "    }\n",
       "</style>\n",
       "<table border=\"1\" class=\"dataframe\">\n",
       "  <thead>\n",
       "    <tr style=\"text-align: right;\">\n",
       "      <th></th>\n",
       "      <th>SMILES</th>\n",
       "      <th>Tg [K]</th>\n",
       "    </tr>\n",
       "  </thead>\n",
       "  <tbody>\n",
       "    <tr>\n",
       "      <th>0</th>\n",
       "      <td>CC1(C)OC[C@H](CO)O1</td>\n",
       "      <td>282.0</td>\n",
       "    </tr>\n",
       "    <tr>\n",
       "      <th>1</th>\n",
       "      <td>COC(=O)[C@H](C)O</td>\n",
       "      <td>286.0</td>\n",
       "    </tr>\n",
       "    <tr>\n",
       "      <th>2</th>\n",
       "      <td>FC(F)C(F)C(F)(F)F</td>\n",
       "      <td>95.0</td>\n",
       "    </tr>\n",
       "    <tr>\n",
       "      <th>3</th>\n",
       "      <td>FCC(F)(F)F</td>\n",
       "      <td>71.0</td>\n",
       "    </tr>\n",
       "    <tr>\n",
       "      <th>4</th>\n",
       "      <td>CC(F)(Cl)Cl</td>\n",
       "      <td>41.0</td>\n",
       "    </tr>\n",
       "  </tbody>\n",
       "</table>\n",
       "</div>"
      ],
      "text/plain": [
       "                SMILES  Tg [K]\n",
       "0  CC1(C)OC[C@H](CO)O1   282.0\n",
       "1     COC(=O)[C@H](C)O   286.0\n",
       "2    FC(F)C(F)C(F)(F)F    95.0\n",
       "3           FCC(F)(F)F    71.0\n",
       "4          CC(F)(Cl)Cl    41.0"
      ]
     },
     "execution_count": 9,
     "metadata": {},
     "output_type": "execute_result"
    }
   ],
   "source": [
    "ktg_smiles.head()"
   ]
  },
  {
   "cell_type": "code",
   "execution_count": 10,
   "id": "144dea55",
   "metadata": {
    "execution": {
     "iopub.execute_input": "2025-07-11T07:38:04.765636Z",
     "iopub.status.busy": "2025-07-11T07:38:04.765320Z",
     "iopub.status.idle": "2025-07-11T07:38:04.779153Z",
     "shell.execute_reply": "2025-07-11T07:38:04.778060Z"
    },
    "papermill": {
     "duration": 0.023948,
     "end_time": "2025-07-11T07:38:04.780676",
     "exception": false,
     "start_time": "2025-07-11T07:38:04.756728",
     "status": "completed"
    },
    "tags": []
   },
   "outputs": [
    {
     "data": {
      "text/html": [
       "<div>\n",
       "<style scoped>\n",
       "    .dataframe tbody tr th:only-of-type {\n",
       "        vertical-align: middle;\n",
       "    }\n",
       "\n",
       "    .dataframe tbody tr th {\n",
       "        vertical-align: top;\n",
       "    }\n",
       "\n",
       "    .dataframe thead th {\n",
       "        text-align: right;\n",
       "    }\n",
       "</style>\n",
       "<table border=\"1\" class=\"dataframe\">\n",
       "  <thead>\n",
       "    <tr style=\"text-align: right;\">\n",
       "      <th></th>\n",
       "      <th>SMILES</th>\n",
       "      <th>uSMILES</th>\n",
       "      <th>std_name</th>\n",
       "      <th>density(g/cm3)</th>\n",
       "      <th>density_std_err(g/cm3)</th>\n",
       "      <th>abbreviations</th>\n",
       "      <th>synonyms</th>\n",
       "      <th>tradenames</th>\n",
       "    </tr>\n",
       "  </thead>\n",
       "  <tbody>\n",
       "    <tr>\n",
       "      <th>0</th>\n",
       "      <td>NC(=O)OC(=C1)SC(=C1)</td>\n",
       "      <td>NC(=O)OC1=CC=CS1</td>\n",
       "      <td>Polyurethane</td>\n",
       "      <td>1.58</td>\n",
       "      <td>0.24</td>\n",
       "      <td>NaN</td>\n",
       "      <td>NaN</td>\n",
       "      <td>NaN</td>\n",
       "    </tr>\n",
       "    <tr>\n",
       "      <th>1</th>\n",
       "      <td>*OCCOC(=O)Nc2ccc(Cc1ccc(NC(*)=O)cc1)cc2</td>\n",
       "      <td>O(CCOC(=O)NC1=CC=C(CC2=CC=C(NC(=O)[*])C=C2)C=C...</td>\n",
       "      <td>Polyurethane</td>\n",
       "      <td>1.37</td>\n",
       "      <td>0.12</td>\n",
       "      <td>PU;PUR</td>\n",
       "      <td>Poly[(diethylene glycol)-alt-(1,6-hexamethylen...</td>\n",
       "      <td>NaN</td>\n",
       "    </tr>\n",
       "    <tr>\n",
       "      <th>2</th>\n",
       "      <td>NC(=O)OC(=S)</td>\n",
       "      <td>NC(=O)OC=S</td>\n",
       "      <td>Polyurethane</td>\n",
       "      <td>1.65</td>\n",
       "      <td>0.47</td>\n",
       "      <td>NaN</td>\n",
       "      <td>NaN</td>\n",
       "      <td>NaN</td>\n",
       "    </tr>\n",
       "    <tr>\n",
       "      <th>3</th>\n",
       "      <td>NC(=O)NC1=CC=C(S1)</td>\n",
       "      <td>NC(=O)NC1=CC=CS1</td>\n",
       "      <td>Polyurea</td>\n",
       "      <td>1.76</td>\n",
       "      <td>0.30</td>\n",
       "      <td>NaN</td>\n",
       "      <td>NaN</td>\n",
       "      <td>NaN</td>\n",
       "    </tr>\n",
       "    <tr>\n",
       "      <th>4</th>\n",
       "      <td>NC(=O)</td>\n",
       "      <td>NC=O</td>\n",
       "      <td>Polyurea</td>\n",
       "      <td>1.47</td>\n",
       "      <td>0.31</td>\n",
       "      <td>NaN</td>\n",
       "      <td>NaN</td>\n",
       "      <td>NaN</td>\n",
       "    </tr>\n",
       "  </tbody>\n",
       "</table>\n",
       "</div>"
      ],
      "text/plain": [
       "                                    SMILES  \\\n",
       "0                     NC(=O)OC(=C1)SC(=C1)   \n",
       "1  *OCCOC(=O)Nc2ccc(Cc1ccc(NC(*)=O)cc1)cc2   \n",
       "2                             NC(=O)OC(=S)   \n",
       "3                       NC(=O)NC1=CC=C(S1)   \n",
       "4                                   NC(=O)   \n",
       "\n",
       "                                             uSMILES      std_name  \\\n",
       "0                                   NC(=O)OC1=CC=CS1  Polyurethane   \n",
       "1  O(CCOC(=O)NC1=CC=C(CC2=CC=C(NC(=O)[*])C=C2)C=C...  Polyurethane   \n",
       "2                                         NC(=O)OC=S  Polyurethane   \n",
       "3                                   NC(=O)NC1=CC=CS1      Polyurea   \n",
       "4                                               NC=O      Polyurea   \n",
       "\n",
       "  density(g/cm3)  density_std_err(g/cm3) abbreviations  \\\n",
       "0           1.58                    0.24           NaN   \n",
       "1           1.37                    0.12        PU;PUR   \n",
       "2           1.65                    0.47           NaN   \n",
       "3           1.76                    0.30           NaN   \n",
       "4           1.47                    0.31           NaN   \n",
       "\n",
       "                                            synonyms tradenames  \n",
       "0                                                NaN        NaN  \n",
       "1  Poly[(diethylene glycol)-alt-(1,6-hexamethylen...        NaN  \n",
       "2                                                NaN        NaN  \n",
       "3                                                NaN        NaN  \n",
       "4                                                NaN        NaN  "
      ]
     },
     "execution_count": 10,
     "metadata": {},
     "output_type": "execute_result"
    }
   ],
   "source": [
    "de_smiles.head()"
   ]
  },
  {
   "cell_type": "code",
   "execution_count": 11,
   "id": "d76979db",
   "metadata": {
    "execution": {
     "iopub.execute_input": "2025-07-11T07:38:04.796609Z",
     "iopub.status.busy": "2025-07-11T07:38:04.796324Z",
     "iopub.status.idle": "2025-07-11T07:38:09.935993Z",
     "shell.execute_reply": "2025-07-11T07:38:09.934800Z"
    },
    "papermill": {
     "duration": 5.149569,
     "end_time": "2025-07-11T07:38:09.937637",
     "exception": false,
     "start_time": "2025-07-11T07:38:04.788068",
     "status": "completed"
    },
    "tags": []
   },
   "outputs": [
    {
     "name": "stderr",
     "output_type": "stream",
     "text": [
      "100%|██████████| 7973/7973 [00:05<00:00, 1556.71it/s]\n",
      "100%|██████████| 3/3 [00:00<00:00, 922.10it/s]\n"
     ]
    }
   ],
   "source": [
    "def make_smile_canonical(smile): # To avoid duplicates, for example: canonical '*C=C(*)C' == '*C(=C*)C'\n",
    "    try:\n",
    "        mol = Chem.MolFromSmiles(smile)\n",
    "        canon_smile = Chem.MolToSmiles(mol, canonical=True)\n",
    "        return canon_smile\n",
    "    except:\n",
    "        return np.nan\n",
    "\n",
    "train['SMILES'] = train['SMILES'].progress_apply(lambda s: make_smile_canonical(s))\n",
    "test['SMILES'] = test['SMILES'].progress_apply(lambda s: make_smile_canonical(s))"
   ]
  },
  {
   "cell_type": "code",
   "execution_count": 12,
   "id": "bb8c59cd",
   "metadata": {
    "execution": {
     "iopub.execute_input": "2025-07-11T07:38:09.960995Z",
     "iopub.status.busy": "2025-07-11T07:38:09.960671Z",
     "iopub.status.idle": "2025-07-11T07:38:09.967476Z",
     "shell.execute_reply": "2025-07-11T07:38:09.966553Z"
    },
    "papermill": {
     "duration": 0.01926,
     "end_time": "2025-07-11T07:38:09.968914",
     "exception": false,
     "start_time": "2025-07-11T07:38:09.949654",
     "status": "completed"
    },
    "tags": []
   },
   "outputs": [],
   "source": [
    "ktg_smiles.rename(columns={'Tg [K]': 'Tg'}, inplace=True)\n",
    "tg_smiles.rename(columns={'Tg (C)': 'Tg'}, inplace=True)\n",
    "tc_smiles.rename(columns={'TC_mean': 'Tc'}, inplace=True)\n",
    "de_smiles.rename(columns={'density(g/cm3)': 'Density'}, inplace=True)"
   ]
  },
  {
   "cell_type": "code",
   "execution_count": 13,
   "id": "c436afa2",
   "metadata": {
    "execution": {
     "iopub.execute_input": "2025-07-11T07:38:09.990063Z",
     "iopub.status.busy": "2025-07-11T07:38:09.989710Z",
     "iopub.status.idle": "2025-07-11T07:38:10.176685Z",
     "shell.execute_reply": "2025-07-11T07:38:10.175450Z"
    },
    "papermill": {
     "duration": 0.199706,
     "end_time": "2025-07-11T07:38:10.178406",
     "exception": false,
     "start_time": "2025-07-11T07:38:09.978700",
     "status": "completed"
    },
    "tags": []
   },
   "outputs": [
    {
     "name": "stderr",
     "output_type": "stream",
     "text": [
      " 67%|██████▋   | 524/787 [00:00<00:00, 5233.58it/s][07:38:10] SMILES Parse Error: syntax error while parsing: *O[Si](*)([R])[R]\n",
      "[07:38:10] SMILES Parse Error: check for mistakes around position 12:\n",
      "[07:38:10] *O[Si](*)([R])[R]\n",
      "[07:38:10] ~~~~~~~~~~~^\n",
      "[07:38:10] SMILES Parse Error: Failed parsing SMILES '*O[Si](*)([R])[R]' for input: '*O[Si](*)([R])[R]'\n",
      "[07:38:10] SMILES Parse Error: syntax error while parsing: *NC(=O)c4ccc3c(=O)n(c2ccc([R]c1ccc(*)cc1)cc2)c(=O)c3c4\n",
      "[07:38:10] SMILES Parse Error: check for mistakes around position 28:\n",
      "[07:38:10] c4ccc3c(=O)n(c2ccc([R]c1ccc(*)cc1)cc2)c(=\n",
      "[07:38:10] ~~~~~~~~~~~~~~~~~~~~^\n",
      "[07:38:10] SMILES Parse Error: Failed parsing SMILES '*NC(=O)c4ccc3c(=O)n(c2ccc([R]c1ccc(*)cc1)cc2)c(=O)c3c4' for input: '*NC(=O)c4ccc3c(=O)n(c2ccc([R]c1ccc(*)cc1)cc2)c(=O)c3c4'\n",
      "[07:38:10] SMILES Parse Error: syntax error while parsing: O=C=N[R1]N=C=O.O[R2]O.O[R3]O\n",
      "[07:38:10] SMILES Parse Error: check for mistakes around position 7:\n",
      "[07:38:10] O=C=N[R1]N=C=O.O[R2]O.O[R3]O\n",
      "[07:38:10] ~~~~~~^\n",
      "[07:38:10] SMILES Parse Error: Failed parsing SMILES 'O=C=N[R1]N=C=O.O[R2]O.O[R3]O' for input: 'O=C=N[R1]N=C=O.O[R2]O.O[R3]O'\n",
      "[07:38:10] SMILES Parse Error: syntax error while parsing: *CN([R'])Cc2cc([R]c1cc(*)c(O)c(CN([R'])C*)c1)cc(*)c2O\n",
      "[07:38:10] SMILES Parse Error: check for mistakes around position 6:\n",
      "[07:38:10] *CN([R'])Cc2cc([R]c1cc(*)c(O)c(CN([R'])C*\n",
      "[07:38:10] ~~~~~^\n",
      "[07:38:10] SMILES Parse Error: Failed parsing SMILES '*CN([R'])Cc2cc([R]c1cc(*)c(O)c(CN([R'])C*)c1)cc(*)c2O' for input: '*CN([R'])Cc2cc([R]c1cc(*)c(O)c(CN([R'])C*)c1)cc(*)c2O'\n",
      "[07:38:10] SMILES Parse Error: syntax error while parsing: *C(F)(F)CC(F)([R])C(*)(F)F\n",
      "[07:38:10] SMILES Parse Error: check for mistakes around position 16:\n",
      "[07:38:10] *C(F)(F)CC(F)([R])C(*)(F)F\n",
      "[07:38:10] ~~~~~~~~~~~~~~~^\n",
      "[07:38:10] SMILES Parse Error: Failed parsing SMILES '*C(F)(F)CC(F)([R])C(*)(F)F' for input: '*C(F)(F)CC(F)([R])C(*)(F)F'\n",
      "[07:38:10] SMILES Parse Error: syntax error while parsing: *OC2OC(CO[R])C(OC1OC(CO[R])C(*)C(O[R])C1O[R])C(O[R])C2O[R]\n",
      "[07:38:10] SMILES Parse Error: check for mistakes around position 11:\n",
      "[07:38:10] *OC2OC(CO[R])C(OC1OC(CO[R])C(*)C(O[R])C1O\n",
      "[07:38:10] ~~~~~~~~~~^\n",
      "[07:38:10] SMILES Parse Error: Failed parsing SMILES '*OC2OC(CO[R])C(OC1OC(CO[R])C(*)C(O[R])C1O[R])C(O[R])C2O[R]' for input: '*OC2OC(CO[R])C(OC1OC(CO[R])C(*)C(O[R])C1O[R])C(O[R])C2O[R]'\n",
      "100%|██████████| 787/787 [00:00<00:00, 4649.38it/s]\n"
     ]
    }
   ],
   "source": [
    "de_smiles['SMILES'] = de_smiles['SMILES'].progress_apply(lambda s: make_smile_canonical(s))\n",
    "de_smiles = de_smiles[(de_smiles['SMILES'].notnull())&(de_smiles['Density'].notnull())&(de_smiles['Density'] != 'nylon')]\n",
    "de_smiles['Density'] = de_smiles['Density'].astype('float64')\n",
    "de_smiles['Density'] -= 0.118\n",
    "\n",
    "ktg_smiles['Tg'] = ktg_smiles['Tg'] - 273.15"
   ]
  },
  {
   "cell_type": "code",
   "execution_count": 14,
   "id": "d611a4de",
   "metadata": {
    "execution": {
     "iopub.execute_input": "2025-07-11T07:38:10.200536Z",
     "iopub.status.busy": "2025-07-11T07:38:10.200196Z",
     "iopub.status.idle": "2025-07-11T07:38:10.207293Z",
     "shell.execute_reply": "2025-07-11T07:38:10.206284Z"
    },
    "papermill": {
     "duration": 0.020261,
     "end_time": "2025-07-11T07:38:10.208998",
     "exception": false,
     "start_time": "2025-07-11T07:38:10.188737",
     "status": "completed"
    },
    "tags": []
   },
   "outputs": [],
   "source": [
    "useless_cols = [   \n",
    "    \n",
    "    'MaxPartialCharge', \n",
    "    # Nan data\n",
    "    'BCUT2D_MWHI',\n",
    "    'BCUT2D_MWLOW',\n",
    "    'BCUT2D_CHGHI',\n",
    "    'BCUT2D_CHGLO',\n",
    "    'BCUT2D_LOGPHI',\n",
    "    'BCUT2D_LOGPLOW',\n",
    "    'BCUT2D_MRHI',\n",
    "    'BCUT2D_MRLOW',\n",
    "\n",
    "    # Constant data\n",
    "    'NumRadicalElectrons',\n",
    "    'SMR_VSA8',\n",
    "    'SlogP_VSA9',\n",
    "    'fr_barbitur',\n",
    "    'fr_benzodiazepine',\n",
    "    'fr_dihydropyridine',\n",
    "    'fr_epoxide',\n",
    "    'fr_isothiocyan',\n",
    "    'fr_lactam',\n",
    "    'fr_nitroso',\n",
    "    'fr_prisulfonamd',\n",
    "    'fr_thiocyan',\n",
    "\n",
    "    # High correlated data >0.95\n",
    "    'MaxEStateIndex',\n",
    "    'HeavyAtomMolWt',\n",
    "    'ExactMolWt',\n",
    "    'NumValenceElectrons',\n",
    "    'Chi0',\n",
    "    'Chi0n',\n",
    "    'Chi0v',\n",
    "    'Chi1',\n",
    "    'Chi1n',\n",
    "    'Chi1v',\n",
    "    'Chi2n',\n",
    "    'Kappa1',\n",
    "    'LabuteASA',\n",
    "    'HeavyAtomCount',\n",
    "    'MolMR',\n",
    "    'Chi3n',\n",
    "    'BertzCT',\n",
    "    'Chi2v',\n",
    "    'Chi4n',\n",
    "    'HallKierAlpha',\n",
    "    'Chi3v',\n",
    "    'Chi4v',\n",
    "    'MinAbsPartialCharge',\n",
    "    'MinPartialCharge',\n",
    "    'MaxAbsPartialCharge',\n",
    "    'FpDensityMorgan2',\n",
    "    'FpDensityMorgan3',\n",
    "    'Phi',\n",
    "    'Kappa3',\n",
    "    'fr_nitrile',\n",
    "    'SlogP_VSA6',\n",
    "    'NumAromaticCarbocycles',\n",
    "    'NumAromaticRings',\n",
    "    'fr_benzene',\n",
    "    'VSA_EState6',\n",
    "    'NOCount',\n",
    "    'fr_C_O',\n",
    "    'fr_C_O_noCOO',\n",
    "    'NumHDonors',\n",
    "    'fr_amide',\n",
    "    'fr_Nhpyrrole',\n",
    "    'fr_phenol',\n",
    "    'fr_phenol_noOrthoHbond',\n",
    "    'fr_COO2',\n",
    "    'fr_halogen',\n",
    "    'fr_diazo',\n",
    "    'fr_nitro_arom',\n",
    "    'fr_phos_ester'\n",
    "]"
   ]
  },
  {
   "cell_type": "code",
   "execution_count": 15,
   "id": "528c419d",
   "metadata": {
    "execution": {
     "iopub.execute_input": "2025-07-11T07:38:10.230816Z",
     "iopub.status.busy": "2025-07-11T07:38:10.230483Z",
     "iopub.status.idle": "2025-07-11T07:38:10.237204Z",
     "shell.execute_reply": "2025-07-11T07:38:10.236328Z"
    },
    "papermill": {
     "duration": 0.01989,
     "end_time": "2025-07-11T07:38:10.239110",
     "exception": false,
     "start_time": "2025-07-11T07:38:10.219220",
     "status": "completed"
    },
    "tags": []
   },
   "outputs": [],
   "source": [
    "def preprocessing(df):\n",
    "    desc_names = [desc[0] for desc in Descriptors.descList if desc[0] not in useless_cols]\n",
    "    descriptors = [compute_all_descriptors(smi) for smi in df['SMILES'].tolist()]\n",
    "\n",
    "    graph_feats = {'graph_diameter': [], 'avg_shortest_path': [], 'num_cycles': []}\n",
    "\n",
    "    for smile in df['SMILES']:\n",
    "         compute_graph_features(smile, graph_feats)\n",
    "        \n",
    "    result = pd.concat(\n",
    "        [\n",
    "            pd.DataFrame(descriptors, columns=desc_names),\n",
    "            pd.DataFrame(graph_feats)\n",
    "        ],\n",
    "        axis=1\n",
    "    )\n",
    "\n",
    "    result = result.replace([-np.inf, np.inf], np.nan)\n",
    "    return result"
   ]
  },
  {
   "cell_type": "markdown",
   "id": "457b749f",
   "metadata": {
    "papermill": {
     "duration": 0.009747,
     "end_time": "2025-07-11T07:38:10.259186",
     "exception": false,
     "start_time": "2025-07-11T07:38:10.249439",
     "status": "completed"
    },
    "tags": []
   },
   "source": [
    "### Adding features from extra data"
   ]
  },
  {
   "cell_type": "code",
   "execution_count": 16,
   "id": "c6abb392",
   "metadata": {
    "execution": {
     "iopub.execute_input": "2025-07-11T07:38:10.281766Z",
     "iopub.status.busy": "2025-07-11T07:38:10.281368Z",
     "iopub.status.idle": "2025-07-11T07:38:11.709436Z",
     "shell.execute_reply": "2025-07-11T07:38:11.708139Z"
    },
    "papermill": {
     "duration": 1.441856,
     "end_time": "2025-07-11T07:38:11.711626",
     "exception": false,
     "start_time": "2025-07-11T07:38:10.269770",
     "status": "completed"
    },
    "tags": []
   },
   "outputs": [
    {
     "name": "stdout",
     "output_type": "stream",
     "text": [
      "\n",
      "For target \"Tc\" added 129 new samples!\n",
      "New unique SMILES: 129\n",
      "\n",
      "For target \"Tg\" added 151 new samples!\n",
      "New unique SMILES: 136\n",
      "\n",
      "For target \"Tg\" added 499 new samples!\n",
      "New unique SMILES: 499\n",
      "\n",
      "For target \"Density\" added 634 new samples!\n",
      "New unique SMILES: 524\n"
     ]
    }
   ],
   "source": [
    "def add_extra_data(df_train, df_extra, target):\n",
    "    n_samples_before = len(df_train[df_train[target].notnull()])\n",
    "    \n",
    "    df_extra['SMILES'] = df_extra['SMILES'].apply(lambda s: make_smile_canonical(s))\n",
    "    df_extra = df_extra.groupby('SMILES', as_index=False)[target].mean()\n",
    "    cross_smiles = set(df_extra['SMILES']) & set(df_train['SMILES'])\n",
    "    unique_smiles_extra = set(df_extra['SMILES']) - set(df_train['SMILES'])\n",
    "\n",
    "    # Make priority target value from competition's df\n",
    "    for smile in df_train[df_train[target].notnull()]['SMILES'].tolist():\n",
    "        if smile in cross_smiles:\n",
    "            cross_smiles.remove(smile)\n",
    "\n",
    "    # Imput missing values for competition's SMILES\n",
    "    for smile in cross_smiles:\n",
    "        df_train.loc[df_train['SMILES']==smile, target] = df_extra[df_extra['SMILES']==smile][target].values[0]\n",
    "    \n",
    "    df_train = pd.concat([df_train, df_extra[df_extra['SMILES'].isin(unique_smiles_extra)]], axis=0).reset_index(drop=True)\n",
    "\n",
    "    n_samples_after = len(df_train[df_train[target].notnull()])\n",
    "    print(f'\\nFor target \"{target}\" added {n_samples_after-n_samples_before} new samples!')\n",
    "    print(f'New unique SMILES: {len(unique_smiles_extra)}')\n",
    "    return df_train\n",
    "\n",
    "train = add_extra_data(train, tc_smiles, 'Tc')\n",
    "train = add_extra_data(train, tg_smiles, 'Tg')\n",
    "train = add_extra_data(train, ktg_smiles, 'Tg')\n",
    "train = add_extra_data(train, de_smiles, 'Density')"
   ]
  },
  {
   "cell_type": "code",
   "execution_count": 17,
   "id": "8b65e02c",
   "metadata": {
    "execution": {
     "iopub.execute_input": "2025-07-11T07:38:11.805140Z",
     "iopub.status.busy": "2025-07-11T07:38:11.804650Z",
     "iopub.status.idle": "2025-07-11T07:40:39.359004Z",
     "shell.execute_reply": "2025-07-11T07:40:39.358105Z"
    },
    "papermill": {
     "duration": 147.638444,
     "end_time": "2025-07-11T07:40:39.361252",
     "exception": false,
     "start_time": "2025-07-11T07:38:11.722808",
     "status": "completed"
    },
    "tags": []
   },
   "outputs": [
    {
     "name": "stdout",
     "output_type": "stream",
     "text": [
      "(9261, 158)\n",
      "(9261, 158)\n"
     ]
    }
   ],
   "source": [
    "def compute_all_descriptors(smiles):\n",
    "    mol = Chem.MolFromSmiles(smiles)\n",
    "    if mol is None:\n",
    "        return [None] * len(desc_names)\n",
    "    return [desc[1](mol) for desc in Descriptors.descList if desc[0] not in useless_cols]\n",
    "\n",
    "def compute_graph_features(smiles, graph_feats):\n",
    "    mol = Chem.MolFromSmiles(smiles)\n",
    "    adj = rdmolops.GetAdjacencyMatrix(mol)\n",
    "    G = nx.from_numpy_array(adj)\n",
    "\n",
    "    graph_feats['graph_diameter'].append(nx.diameter(G) if nx.is_connected(G) else 0)\n",
    "    graph_feats['avg_shortest_path'].append(nx.average_shortest_path_length(G) if nx.is_connected(G) else 0)\n",
    "    graph_feats['num_cycles'].append(len(list(nx.cycle_basis(G))))\n",
    "\n",
    "train = pd.concat([train, preprocessing(train)], axis=1)\n",
    "test = pd.concat([test, preprocessing(test)], axis=1)\n",
    "\n",
    "all_features = train.columns[7:].tolist()\n",
    "features = {}\n",
    "for target in CFG.TARGETS:\n",
    "    const_descs = []\n",
    "    for col in train.columns.drop(CFG.TARGETS):\n",
    "        if train[train[target].notnull()][col].nunique() == 1:\n",
    "            const_descs.append(col)\n",
    "    features[target] = [f for f in all_features if f not in const_descs]\n",
    "\n",
    "print(train.shape)\n",
    "train['Ipc']=np.log10(train['Ipc'])  \n",
    "for n in train.columns[7:]:\n",
    "    train[n]=train[n].replace(-np.inf,np.nan)\n",
    "    train[n]=train[n].replace(np.inf,np.nan)    \n",
    "    train[n].fillna(train[n].mean())\n",
    "  \n",
    "print(train.shape)\n",
    "test['Ipc']=np.log10(test['Ipc'])\n",
    "for n in test.columns[7:]:\n",
    "    train[n]=train[n].replace(-np.inf,np.nan)\n",
    "    train[n]=train[n].replace(np.inf,np.nan)      \n",
    "    test[n].fillna(train[n].mean())"
   ]
  },
  {
   "cell_type": "code",
   "execution_count": 18,
   "id": "b383aa00",
   "metadata": {
    "execution": {
     "iopub.execute_input": "2025-07-11T07:40:39.385176Z",
     "iopub.status.busy": "2025-07-11T07:40:39.384824Z",
     "iopub.status.idle": "2025-07-11T07:40:39.404845Z",
     "shell.execute_reply": "2025-07-11T07:40:39.403919Z"
    },
    "papermill": {
     "duration": 0.033457,
     "end_time": "2025-07-11T07:40:39.406684",
     "exception": false,
     "start_time": "2025-07-11T07:40:39.373227",
     "status": "completed"
    },
    "tags": []
   },
   "outputs": [],
   "source": [
    "# We'll separate train to be one model for each target variable.\n",
    "t_1=train[['SMILES','Tg']].copy()\n",
    "t_2=train[['SMILES','FFV']].copy()\n",
    "t_3=train[['SMILES','Tc']].copy()\n",
    "t_4=train[['SMILES','Density']].copy()\n",
    "t_5=train[['SMILES','Rg']].copy()\n",
    "\n",
    "# We will drop the rows with missing values related to that target after separation.\n",
    "#This is important , dropping them beforehand would result Null for all data.\n",
    "t_1.dropna(inplace=True)\n",
    "t_2.dropna(inplace=True)\n",
    "t_3.dropna(inplace=True)\n",
    "t_4.dropna(inplace=True)\n",
    "t_5.dropna(inplace=True)"
   ]
  },
  {
   "cell_type": "code",
   "execution_count": 19,
   "id": "9797b080",
   "metadata": {
    "execution": {
     "iopub.execute_input": "2025-07-11T07:40:39.429354Z",
     "iopub.status.busy": "2025-07-11T07:40:39.429004Z",
     "iopub.status.idle": "2025-07-11T07:40:39.453718Z",
     "shell.execute_reply": "2025-07-11T07:40:39.452831Z"
    },
    "papermill": {
     "duration": 0.038242,
     "end_time": "2025-07-11T07:40:39.455545",
     "exception": false,
     "start_time": "2025-07-11T07:40:39.417303",
     "status": "completed"
    },
    "tags": []
   },
   "outputs": [],
   "source": [
    "train=train.drop(['id','Tg','FFV','Tc','Density','Rg'],axis=1)\n",
    "test=test.drop(['id','SMILES'],axis=1)"
   ]
  },
  {
   "cell_type": "code",
   "execution_count": 20,
   "id": "9669e6e2",
   "metadata": {
    "execution": {
     "iopub.execute_input": "2025-07-11T07:40:39.477922Z",
     "iopub.status.busy": "2025-07-11T07:40:39.477628Z",
     "iopub.status.idle": "2025-07-11T07:40:39.627895Z",
     "shell.execute_reply": "2025-07-11T07:40:39.627007Z"
    },
    "papermill": {
     "duration": 0.163582,
     "end_time": "2025-07-11T07:40:39.629765",
     "exception": false,
     "start_time": "2025-07-11T07:40:39.466183",
     "status": "completed"
    },
    "tags": []
   },
   "outputs": [],
   "source": [
    "tg=t_1.merge(train,on='SMILES',how='left')\n",
    "ffv=t_2.merge(train,on='SMILES',how='left')\n",
    "tc=t_3.merge(train,on='SMILES',how='left')\n",
    "density=t_4.merge(train,on='SMILES',how='left')\n",
    "rg=t_5.merge(train,on='SMILES',how='left')"
   ]
  },
  {
   "cell_type": "code",
   "execution_count": 21,
   "id": "efbc2a67",
   "metadata": {
    "execution": {
     "iopub.execute_input": "2025-07-11T07:40:39.652590Z",
     "iopub.status.busy": "2025-07-11T07:40:39.652228Z",
     "iopub.status.idle": "2025-07-11T07:40:39.677698Z",
     "shell.execute_reply": "2025-07-11T07:40:39.676876Z"
    },
    "papermill": {
     "duration": 0.039451,
     "end_time": "2025-07-11T07:40:39.679836",
     "exception": false,
     "start_time": "2025-07-11T07:40:39.640385",
     "status": "completed"
    },
    "tags": []
   },
   "outputs": [],
   "source": [
    "for i in (tg,tc,density,ffv,rg):\n",
    "    i.drop('SMILES',axis=1,inplace=True)\n",
    "    i.dropna(inplace=True)"
   ]
  },
  {
   "cell_type": "markdown",
   "id": "2d14daab",
   "metadata": {
    "papermill": {
     "duration": 0.012502,
     "end_time": "2025-07-11T07:40:39.703890",
     "exception": false,
     "start_time": "2025-07-11T07:40:39.691388",
     "status": "completed"
    },
    "tags": []
   },
   "source": [
    "### Preparing model"
   ]
  },
  {
   "cell_type": "code",
   "execution_count": 22,
   "id": "e93b9cd3",
   "metadata": {
    "execution": {
     "iopub.execute_input": "2025-07-11T07:40:39.727242Z",
     "iopub.status.busy": "2025-07-11T07:40:39.726849Z",
     "iopub.status.idle": "2025-07-11T07:40:39.734123Z",
     "shell.execute_reply": "2025-07-11T07:40:39.733122Z"
    },
    "papermill": {
     "duration": 0.021097,
     "end_time": "2025-07-11T07:40:39.735805",
     "exception": false,
     "start_time": "2025-07-11T07:40:39.714708",
     "status": "completed"
    },
    "tags": []
   },
   "outputs": [],
   "source": [
    "def model(train_d,test_d,model,target,submission=False):\n",
    "    # We divide the data into training and validation sets for model evaluation\n",
    "    X=train_d.drop(target,axis=1)\n",
    "    y=train_d[target].copy()\n",
    "    X_train,X_test,y_train,y_test=train_test_split(X,y,test_size=0.2,random_state=10)\n",
    "\n",
    "    Model=model()\n",
    "    if submission==False:\n",
    "       Model.fit(X_train,y_train)\n",
    "       y_pred=Model.predict(X_test)\n",
    "       return mean_absolute_error(y_pred,y_test)         # We assess our model performance using MAE metric\n",
    "    if submission==True:\n",
    "       Model.fit(X,y)\n",
    "       submission=Model.predict(test_d)\n",
    "       return submission"
   ]
  },
  {
   "cell_type": "markdown",
   "id": "0d70e38f",
   "metadata": {
    "papermill": {
     "duration": 0.012596,
     "end_time": "2025-07-11T07:40:39.761555",
     "exception": false,
     "start_time": "2025-07-11T07:40:39.748959",
     "status": "completed"
    },
    "tags": []
   },
   "source": [
    "### Model evaluation"
   ]
  },
  {
   "cell_type": "code",
   "execution_count": 23,
   "id": "b8fad1cf",
   "metadata": {
    "execution": {
     "iopub.execute_input": "2025-07-11T07:40:39.785672Z",
     "iopub.status.busy": "2025-07-11T07:40:39.785301Z",
     "iopub.status.idle": "2025-07-11T07:40:45.124437Z",
     "shell.execute_reply": "2025-07-11T07:40:45.123240Z"
    },
    "papermill": {
     "duration": 5.352803,
     "end_time": "2025-07-11T07:40:45.126319",
     "exception": false,
     "start_time": "2025-07-11T07:40:39.773516",
     "status": "completed"
    },
    "tags": []
   },
   "outputs": [],
   "source": [
    "from sklearn.ensemble import (\n",
    "    RandomForestRegressor,\n",
    "    ExtraTreesRegressor,\n",
    "    GradientBoostingRegressor,\n",
    "    HistGradientBoostingRegressor\n",
    ")\n",
    "from xgboost import XGBRegressor\n",
    "from lightgbm import LGBMRegressor\n",
    "from catboost import CatBoostRegressor"
   ]
  },
  {
   "cell_type": "code",
   "execution_count": 24,
   "id": "5b6ea8cd",
   "metadata": {
    "execution": {
     "iopub.execute_input": "2025-07-11T07:40:45.150207Z",
     "iopub.status.busy": "2025-07-11T07:40:45.149452Z",
     "iopub.status.idle": "2025-07-11T07:41:00.963969Z",
     "shell.execute_reply": "2025-07-11T07:41:00.962657Z"
    },
    "papermill": {
     "duration": 15.828197,
     "end_time": "2025-07-11T07:41:00.965586",
     "exception": false,
     "start_time": "2025-07-11T07:40:45.137389",
     "status": "completed"
    },
    "tags": []
   },
   "outputs": [
    {
     "name": "stdout",
     "output_type": "stream",
     "text": [
      "RandomForest        : MAE = 35.52949\n",
      "ExtraTrees          : MAE = 35.41423\n",
      "GradientBoosting    : MAE = 37.79259\n",
      "HistGradientBoosting: MAE = 35.05668\n",
      "XGBoost             : MAE = 39.22545\n",
      "LightGBM            : MAE = 35.59063\n",
      "CatBoost            : MAE = 35.26248\n"
     ]
    }
   ],
   "source": [
    "models_to_compare = {\n",
    "    'RandomForest': lambda: RandomForestRegressor(),\n",
    "    'ExtraTrees': lambda: ExtraTreesRegressor(),\n",
    "    'GradientBoosting': lambda: GradientBoostingRegressor(),\n",
    "    'HistGradientBoosting': lambda: HistGradientBoostingRegressor(),\n",
    "    'XGBoost': lambda: XGBRegressor(verbosity=0),\n",
    "    'LightGBM': lambda: LGBMRegressor(verbose=-1),\n",
    "    'CatBoost': lambda: CatBoostRegressor(verbose=0),\n",
    "}\n",
    "\n",
    "for name, model_init in models_to_compare.items():\n",
    "    try:\n",
    "        score = model(tg, test, model_init, 'Tg', submission=False)\n",
    "        print(f'{name:<20}: MAE = {score:.5f}')\n",
    "    except Exception as e:\n",
    "        print(f'{name:<20}: Failed with error: {e}')"
   ]
  },
  {
   "cell_type": "code",
   "execution_count": 25,
   "id": "bb2f2bf2",
   "metadata": {
    "execution": {
     "iopub.execute_input": "2025-07-11T07:41:00.989089Z",
     "iopub.status.busy": "2025-07-11T07:41:00.988742Z",
     "iopub.status.idle": "2025-07-11T07:41:58.851952Z",
     "shell.execute_reply": "2025-07-11T07:41:58.850880Z"
    },
    "papermill": {
     "duration": 57.877365,
     "end_time": "2025-07-11T07:41:58.853824",
     "exception": false,
     "start_time": "2025-07-11T07:41:00.976459",
     "status": "completed"
    },
    "tags": []
   },
   "outputs": [
    {
     "name": "stdout",
     "output_type": "stream",
     "text": [
      "RandomForest        : MAE = 0.00758\n",
      "ExtraTrees          : MAE = 0.00666\n",
      "GradientBoosting    : MAE = 0.00995\n",
      "HistGradientBoosting: MAE = 0.00781\n",
      "XGBoost             : MAE = 0.00738\n",
      "LightGBM            : MAE = 0.00772\n",
      "CatBoost            : MAE = 0.00684\n"
     ]
    }
   ],
   "source": [
    "models_to_compare = {\n",
    "    'RandomForest': lambda: RandomForestRegressor(),\n",
    "    'ExtraTrees': lambda: ExtraTreesRegressor(),\n",
    "    'GradientBoosting': lambda: GradientBoostingRegressor(),\n",
    "    'HistGradientBoosting': lambda: HistGradientBoostingRegressor(),\n",
    "    'XGBoost': lambda: XGBRegressor(verbosity=0),\n",
    "    'LightGBM': lambda: LGBMRegressor(verbose=-1),\n",
    "    'CatBoost': lambda: CatBoostRegressor(verbose=0),\n",
    "}\n",
    "\n",
    "for name, model_cls in models_to_compare.items():\n",
    "    try:\n",
    "        score = model(ffv, test, model_cls, 'FFV', submission=False)\n",
    "        print(f'{name:<20}: MAE = {score:.5f}')\n",
    "    except Exception as e:\n",
    "        print(f'{name:<20}: Failed with error: {e}')"
   ]
  },
  {
   "cell_type": "code",
   "execution_count": 26,
   "id": "1cc36f7e",
   "metadata": {
    "execution": {
     "iopub.execute_input": "2025-07-11T07:41:58.877738Z",
     "iopub.status.busy": "2025-07-11T07:41:58.877383Z",
     "iopub.status.idle": "2025-07-11T07:42:09.927118Z",
     "shell.execute_reply": "2025-07-11T07:42:09.926114Z"
    },
    "papermill": {
     "duration": 11.063818,
     "end_time": "2025-07-11T07:42:09.928969",
     "exception": false,
     "start_time": "2025-07-11T07:41:58.865151",
     "status": "completed"
    },
    "tags": []
   },
   "outputs": [
    {
     "name": "stdout",
     "output_type": "stream",
     "text": [
      "RandomForest        : MAE = 0.03623\n",
      "ExtraTrees          : MAE = 0.03731\n",
      "GradientBoosting    : MAE = 0.03597\n",
      "HistGradientBoosting: MAE = 0.03569\n",
      "XGBoost             : MAE = 0.03571\n",
      "LightGBM            : MAE = 0.03664\n",
      "CatBoost            : MAE = 0.03451\n"
     ]
    }
   ],
   "source": [
    "models_to_compare = {\n",
    "    'RandomForest': lambda: RandomForestRegressor(),\n",
    "    'ExtraTrees': lambda: ExtraTreesRegressor(),\n",
    "    'GradientBoosting': lambda: GradientBoostingRegressor(),\n",
    "    'HistGradientBoosting': lambda: HistGradientBoostingRegressor(),\n",
    "    'XGBoost': lambda: XGBRegressor(verbosity=0),\n",
    "    'LightGBM': lambda: LGBMRegressor(verbose=-1),\n",
    "    'CatBoost': lambda: CatBoostRegressor(verbose=0),\n",
    "}\n",
    "\n",
    "for name, model_cls in models_to_compare.items():\n",
    "    try:\n",
    "        score = model(tc, test, model_cls, 'Tc', submission=False)\n",
    "        print(f'{name:<20}: MAE = {score:.5f}')\n",
    "    except Exception as e:\n",
    "        print(f'{name:<20}: Failed with error: {e}')"
   ]
  },
  {
   "cell_type": "code",
   "execution_count": 27,
   "id": "9a7bffa4",
   "metadata": {
    "execution": {
     "iopub.execute_input": "2025-07-11T07:42:09.956731Z",
     "iopub.status.busy": "2025-07-11T07:42:09.955987Z",
     "iopub.status.idle": "2025-07-11T07:42:23.462221Z",
     "shell.execute_reply": "2025-07-11T07:42:23.460871Z"
    },
    "papermill": {
     "duration": 13.523117,
     "end_time": "2025-07-11T07:42:23.464127",
     "exception": false,
     "start_time": "2025-07-11T07:42:09.941010",
     "status": "completed"
    },
    "tags": []
   },
   "outputs": [
    {
     "name": "stdout",
     "output_type": "stream",
     "text": [
      "RandomForest        : MAE = 0.04799\n",
      "ExtraTrees          : MAE = 0.03932\n",
      "GradientBoosting    : MAE = 0.04752\n",
      "HistGradientBoosting: MAE = 0.04533\n",
      "XGBoost             : MAE = 0.04739\n",
      "LightGBM            : MAE = 0.04467\n",
      "CatBoost            : MAE = 0.03930\n"
     ]
    }
   ],
   "source": [
    "models_to_compare = {\n",
    "    'RandomForest': lambda: RandomForestRegressor(),\n",
    "    'ExtraTrees': lambda: ExtraTreesRegressor(),\n",
    "    'GradientBoosting': lambda: GradientBoostingRegressor(),\n",
    "    'HistGradientBoosting': lambda: HistGradientBoostingRegressor(),\n",
    "    'XGBoost': lambda: XGBRegressor(verbosity=0),\n",
    "    'LightGBM': lambda: LGBMRegressor(verbose=-1),\n",
    "    'CatBoost': lambda: CatBoostRegressor(verbose=0),\n",
    "}\n",
    "\n",
    "for name, model_cls in models_to_compare.items():\n",
    "    try:\n",
    "        score = model(density, test, model_cls, 'Density', submission=False)\n",
    "        print(f'{name:<20}: MAE = {score:.5f}')\n",
    "    except Exception as e:\n",
    "        print(f'{name:<20}: Failed with error: {e}')"
   ]
  },
  {
   "cell_type": "code",
   "execution_count": 28,
   "id": "13b53114",
   "metadata": {
    "execution": {
     "iopub.execute_input": "2025-07-11T07:42:23.489844Z",
     "iopub.status.busy": "2025-07-11T07:42:23.489187Z",
     "iopub.status.idle": "2025-07-11T07:42:33.008387Z",
     "shell.execute_reply": "2025-07-11T07:42:33.007316Z"
    },
    "papermill": {
     "duration": 9.53361,
     "end_time": "2025-07-11T07:42:33.009969",
     "exception": false,
     "start_time": "2025-07-11T07:42:23.476359",
     "status": "completed"
    },
    "tags": []
   },
   "outputs": [
    {
     "name": "stdout",
     "output_type": "stream",
     "text": [
      "RandomForest        : MAE = 1.80732\n",
      "ExtraTrees          : MAE = 1.84876\n",
      "GradientBoosting    : MAE = 1.92350\n",
      "HistGradientBoosting: MAE = 2.02431\n",
      "XGBoost             : MAE = 1.92072\n",
      "LightGBM            : MAE = 1.97340\n",
      "CatBoost            : MAE = 1.81393\n"
     ]
    }
   ],
   "source": [
    "models_to_compare = {\n",
    "    'RandomForest': lambda: RandomForestRegressor(),\n",
    "    'ExtraTrees': lambda: ExtraTreesRegressor(),\n",
    "    'GradientBoosting': lambda: GradientBoostingRegressor(),\n",
    "    'HistGradientBoosting': lambda: HistGradientBoostingRegressor(),\n",
    "    'XGBoost': lambda: XGBRegressor(verbosity=0),\n",
    "    'LightGBM': lambda: LGBMRegressor(verbose=-1),\n",
    "    'CatBoost': lambda: CatBoostRegressor(verbose=0),\n",
    "}\n",
    "\n",
    "for name, model_cls in models_to_compare.items():\n",
    "    try:\n",
    "        score = model(rg, test, model_cls, 'Rg', submission=False)\n",
    "        print(f'{name:<20}: MAE = {score:.5f}')\n",
    "    except Exception as e:\n",
    "        print(f'{name:<20}: Failed with error: {e}')"
   ]
  },
  {
   "cell_type": "markdown",
   "id": "9736bbb2",
   "metadata": {
    "papermill": {
     "duration": 0.01193,
     "end_time": "2025-07-11T07:42:33.034451",
     "exception": false,
     "start_time": "2025-07-11T07:42:33.022521",
     "status": "completed"
    },
    "tags": []
   },
   "source": [
    "### Submission"
   ]
  },
  {
   "cell_type": "code",
   "execution_count": 29,
   "id": "1ff2e1c6",
   "metadata": {
    "execution": {
     "iopub.execute_input": "2025-07-11T07:42:33.059878Z",
     "iopub.status.busy": "2025-07-11T07:42:33.059539Z",
     "iopub.status.idle": "2025-07-11T07:43:05.867996Z",
     "shell.execute_reply": "2025-07-11T07:43:05.866887Z"
    },
    "papermill": {
     "duration": 32.822964,
     "end_time": "2025-07-11T07:43:05.869817",
     "exception": false,
     "start_time": "2025-07-11T07:42:33.046853",
     "status": "completed"
    },
    "tags": []
   },
   "outputs": [],
   "source": [
    "sub = {\n",
    "    'id': ID,\n",
    "    'Tg': model(tg, test, lambda: CatBoostRegressor(verbose=0), 'Tg', submission=True),\n",
    "    'FFV': model(ffv, test, lambda: CatBoostRegressor(verbose=0), 'FFV', submission=True),\n",
    "    'Tc': model(tc, test, lambda: CatBoostRegressor(verbose=0), 'Tc', submission=True),\n",
    "    'Density': model(density, test, lambda: CatBoostRegressor(verbose=0), 'Density', submission=True),\n",
    "    'Rg': model(rg, test, RandomForestRegressor, 'Rg', submission=True)\n",
    "}"
   ]
  },
  {
   "cell_type": "code",
   "execution_count": 30,
   "id": "dbb6bff8",
   "metadata": {
    "execution": {
     "iopub.execute_input": "2025-07-11T07:43:05.895907Z",
     "iopub.status.busy": "2025-07-11T07:43:05.895549Z",
     "iopub.status.idle": "2025-07-11T07:43:05.901314Z",
     "shell.execute_reply": "2025-07-11T07:43:05.900094Z"
    },
    "papermill": {
     "duration": 0.020645,
     "end_time": "2025-07-11T07:43:05.903130",
     "exception": false,
     "start_time": "2025-07-11T07:43:05.882485",
     "status": "completed"
    },
    "tags": []
   },
   "outputs": [],
   "source": [
    "submission=pd.DataFrame(sub)"
   ]
  },
  {
   "cell_type": "code",
   "execution_count": 31,
   "id": "49981d20",
   "metadata": {
    "execution": {
     "iopub.execute_input": "2025-07-11T07:43:05.928610Z",
     "iopub.status.busy": "2025-07-11T07:43:05.928294Z",
     "iopub.status.idle": "2025-07-11T07:43:05.939526Z",
     "shell.execute_reply": "2025-07-11T07:43:05.938400Z"
    },
    "papermill": {
     "duration": 0.026001,
     "end_time": "2025-07-11T07:43:05.941278",
     "exception": false,
     "start_time": "2025-07-11T07:43:05.915277",
     "status": "completed"
    },
    "tags": []
   },
   "outputs": [
    {
     "data": {
      "text/html": [
       "<div>\n",
       "<style scoped>\n",
       "    .dataframe tbody tr th:only-of-type {\n",
       "        vertical-align: middle;\n",
       "    }\n",
       "\n",
       "    .dataframe tbody tr th {\n",
       "        vertical-align: top;\n",
       "    }\n",
       "\n",
       "    .dataframe thead th {\n",
       "        text-align: right;\n",
       "    }\n",
       "</style>\n",
       "<table border=\"1\" class=\"dataframe\">\n",
       "  <thead>\n",
       "    <tr style=\"text-align: right;\">\n",
       "      <th></th>\n",
       "      <th>id</th>\n",
       "      <th>Tg</th>\n",
       "      <th>FFV</th>\n",
       "      <th>Tc</th>\n",
       "      <th>Density</th>\n",
       "      <th>Rg</th>\n",
       "    </tr>\n",
       "  </thead>\n",
       "  <tbody>\n",
       "    <tr>\n",
       "      <th>0</th>\n",
       "      <td>1109053969</td>\n",
       "      <td>171.132531</td>\n",
       "      <td>0.375060</td>\n",
       "      <td>0.210824</td>\n",
       "      <td>1.153362</td>\n",
       "      <td>20.557311</td>\n",
       "    </tr>\n",
       "    <tr>\n",
       "      <th>1</th>\n",
       "      <td>1422188626</td>\n",
       "      <td>207.932945</td>\n",
       "      <td>0.379103</td>\n",
       "      <td>0.236521</td>\n",
       "      <td>1.083875</td>\n",
       "      <td>20.986860</td>\n",
       "    </tr>\n",
       "    <tr>\n",
       "      <th>2</th>\n",
       "      <td>2032016830</td>\n",
       "      <td>114.399048</td>\n",
       "      <td>0.354266</td>\n",
       "      <td>0.249140</td>\n",
       "      <td>1.083284</td>\n",
       "      <td>20.603246</td>\n",
       "    </tr>\n",
       "  </tbody>\n",
       "</table>\n",
       "</div>"
      ],
      "text/plain": [
       "           id          Tg       FFV        Tc   Density         Rg\n",
       "0  1109053969  171.132531  0.375060  0.210824  1.153362  20.557311\n",
       "1  1422188626  207.932945  0.379103  0.236521  1.083875  20.986860\n",
       "2  2032016830  114.399048  0.354266  0.249140  1.083284  20.603246"
      ]
     },
     "execution_count": 31,
     "metadata": {},
     "output_type": "execute_result"
    }
   ],
   "source": [
    "submission"
   ]
  },
  {
   "cell_type": "code",
   "execution_count": 32,
   "id": "6356a1da",
   "metadata": {
    "execution": {
     "iopub.execute_input": "2025-07-11T07:43:05.968656Z",
     "iopub.status.busy": "2025-07-11T07:43:05.968300Z",
     "iopub.status.idle": "2025-07-11T07:43:05.978984Z",
     "shell.execute_reply": "2025-07-11T07:43:05.977762Z"
    },
    "papermill": {
     "duration": 0.025626,
     "end_time": "2025-07-11T07:43:05.980826",
     "exception": false,
     "start_time": "2025-07-11T07:43:05.955200",
     "status": "completed"
    },
    "tags": []
   },
   "outputs": [],
   "source": [
    "submission.to_csv('submission.csv',index=False)"
   ]
  },
  {
   "cell_type": "code",
   "execution_count": null,
   "id": "1da09b01",
   "metadata": {
    "papermill": {
     "duration": 0.012899,
     "end_time": "2025-07-11T07:43:06.006843",
     "exception": false,
     "start_time": "2025-07-11T07:43:05.993944",
     "status": "completed"
    },
    "tags": []
   },
   "outputs": [],
   "source": []
  }
 ],
 "metadata": {
  "kaggle": {
   "accelerator": "none",
   "dataSources": [
    {
     "databundleVersionId": 12966160,
     "isSourceIdPinned": false,
     "sourceId": 74608,
     "sourceType": "competition"
    },
    {
     "datasetId": 7678100,
     "sourceId": 12189904,
     "sourceType": "datasetVersion"
    },
    {
     "datasetId": 7690162,
     "sourceId": 12207625,
     "sourceType": "datasetVersion"
    },
    {
     "datasetId": 7709869,
     "sourceId": 12330396,
     "sourceType": "datasetVersion"
    }
   ],
   "dockerImageVersionId": 31089,
   "isGpuEnabled": false,
   "isInternetEnabled": false,
   "language": "python",
   "sourceType": "notebook"
  },
  "kernelspec": {
   "display_name": "Python 3",
   "language": "python",
   "name": "python3"
  },
  "language_info": {
   "codemirror_mode": {
    "name": "ipython",
    "version": 3
   },
   "file_extension": ".py",
   "mimetype": "text/x-python",
   "name": "python",
   "nbconvert_exporter": "python",
   "pygments_lexer": "ipython3",
   "version": "3.11.13"
  },
  "papermill": {
   "default_parameters": {},
   "duration": 323.496824,
   "end_time": "2025-07-11T07:43:07.243006",
   "environment_variables": {},
   "exception": null,
   "input_path": "__notebook__.ipynb",
   "output_path": "__notebook__.ipynb",
   "parameters": {},
   "start_time": "2025-07-11T07:37:43.746182",
   "version": "2.6.0"
  }
 },
 "nbformat": 4,
 "nbformat_minor": 5
}
